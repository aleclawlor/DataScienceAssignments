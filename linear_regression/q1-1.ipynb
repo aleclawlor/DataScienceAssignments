{
 "cells": [
  {
   "cell_type": "code",
   "execution_count": 1,
   "id": "incorporate-ordinance",
   "metadata": {},
   "outputs": [],
   "source": [
    "from sklearn.datasets import load_diabetes\n",
    "from numpy import cov as covM\n",
    "from numpy import mean\n",
    "from numpy import median\n",
    "from numpy import std\n",
    "from math import sqrt"
   ]
  },
  {
   "cell_type": "code",
   "execution_count": 2,
   "id": "cellular-meditation",
   "metadata": {},
   "outputs": [],
   "source": [
    "diabetes_data = load_diabetes()\n",
    "# diabetes_data"
   ]
  },
  {
   "cell_type": "code",
   "execution_count": 3,
   "id": "processed-classification",
   "metadata": {},
   "outputs": [],
   "source": [
    "diabetes_features = diabetes_data.data \n",
    "diabetes_target = diabetes_data.target"
   ]
  },
  {
   "cell_type": "markdown",
   "id": "improved-official",
   "metadata": {},
   "source": [
    "**Part A: Computer CovM of non-target attributes of the data set**"
   ]
  },
  {
   "cell_type": "code",
   "execution_count": 4,
   "id": "cleared-prince",
   "metadata": {},
   "outputs": [],
   "source": [
    "cov_matrix = covM(diabetes_features, rowvar=False)\n",
    "# cov_matrix"
   ]
  },
  {
   "cell_type": "code",
   "execution_count": 5,
   "id": "related-horizontal",
   "metadata": {},
   "outputs": [
    {
     "data": {
      "text/plain": [
       "(10, 10)"
      ]
     },
     "execution_count": 5,
     "metadata": {},
     "output_type": "execute_result"
    }
   ],
   "source": [
    "cov_matrix.shape"
   ]
  },
  {
   "cell_type": "markdown",
   "id": "given-aurora",
   "metadata": {},
   "source": [
    "The covariance matrix has dimensions 10x10."
   ]
  },
  {
   "cell_type": "markdown",
   "id": "adequate-insight",
   "metadata": {},
   "source": [
    "**Part B: Compute he correlation of the age and bp attributes (directly from the elements of the covariance matrix**"
   ]
  },
  {
   "cell_type": "markdown",
   "id": "talented-affairs",
   "metadata": {},
   "source": [
    "$$Corr(Age, BP) = \\frac{Cov(Age, BP)}{\\sqrt{Cov(Age, Age) \\cdot Cov(BP, BP)}}$$\n",
    "\n",
    "We can directly use the covariance matrix to get these values."
   ]
  },
  {
   "cell_type": "code",
   "execution_count": 6,
   "id": "scenic-editing",
   "metadata": {},
   "outputs": [],
   "source": [
    "cov_age_bp = cov_matrix[0, 3]\n",
    "cov_age_age = cov_matrix[0, 0]\n",
    "cov_bp_bp = cov_matrix[3, 3]"
   ]
  },
  {
   "cell_type": "code",
   "execution_count": 7,
   "id": "local-shooting",
   "metadata": {},
   "outputs": [
    {
     "data": {
      "text/plain": [
       "0.33542671054424283"
      ]
     },
     "execution_count": 7,
     "metadata": {},
     "output_type": "execute_result"
    }
   ],
   "source": [
    "corr_age_bp = cov_age_bp / sqrt(cov_age_age * cov_bp_bp)\n",
    "corr_age_bp"
   ]
  },
  {
   "cell_type": "markdown",
   "id": "running-police",
   "metadata": {},
   "source": [
    "So, the correlation of age and blood pressure is approximately .3354. We found this by using the formula for correlation, which is essentially a standardized version of the covariance. Because of this, we can index the appropriate positions of the matrix to get the corresponding covariances and compute the correlation using these values."
   ]
  },
  {
   "cell_type": "markdown",
   "id": "norwegian-pollution",
   "metadata": {},
   "source": [
    "**Part C: Evaluate previous results**"
   ]
  },
  {
   "cell_type": "markdown",
   "id": "arabic-sally",
   "metadata": {},
   "source": [
    "Based on the previous result, I would expect that older patients in the dataset have higher blood pressure. Since blood pressure and age are positively correlated (in the dataset), this means that as age increases, blood pressure increases as well (this is how you interperet correlation). We could think of the data as being globally \"related\" by a line with a positive slope of about .33, suggesting the trend just described."
   ]
  },
  {
   "cell_type": "markdown",
   "id": "intellectual-delight",
   "metadata": {},
   "source": [
    "**Part D: Check whether the data is consistent with what we found above**"
   ]
  },
  {
   "cell_type": "code",
   "execution_count": 8,
   "id": "respected-brush",
   "metadata": {},
   "outputs": [
    {
     "data": {
      "text/plain": [
       "-3.6396225400041895e-16"
      ]
     },
     "execution_count": 8,
     "metadata": {},
     "output_type": "execute_result"
    }
   ],
   "source": [
    "# compute median blood pressure among patients whose age is larger than the median\n",
    "mean_age = mean(diabetes_features[:, 0])\n",
    "mean_age"
   ]
  },
  {
   "cell_type": "code",
   "execution_count": 9,
   "id": "written-appreciation",
   "metadata": {},
   "outputs": [],
   "source": [
    "older_patients = diabetes_features[diabetes_features[:, 0] > mean_age]\n",
    "younger_patients = diabetes_features[diabetes_features[:, 0] < mean_age]"
   ]
  },
  {
   "cell_type": "code",
   "execution_count": 10,
   "id": "green-estimate",
   "metadata": {},
   "outputs": [
    {
     "data": {
      "text/plain": [
       "0.0115437429137471"
      ]
     },
     "execution_count": 10,
     "metadata": {},
     "output_type": "execute_result"
    }
   ],
   "source": [
    "median_older_patients = median(older_patients[:, 3])\n",
    "median_older_patients"
   ]
  },
  {
   "cell_type": "code",
   "execution_count": 11,
   "id": "visible-northern",
   "metadata": {},
   "outputs": [
    {
     "data": {
      "text/plain": [
       "-0.0228849640236156"
      ]
     },
     "execution_count": 11,
     "metadata": {},
     "output_type": "execute_result"
    }
   ],
   "source": [
    "median_younger_patients = median(younger_patients[:, 3])\n",
    "median_younger_patients"
   ]
  },
  {
   "cell_type": "markdown",
   "id": "optimum-uruguay",
   "metadata": {},
   "source": [
    "The median blood pressure for younger patients is lower than that of older patients. This is evidence in favor of our findings from above. We compute the difference between medians as a number of standard deviations of the blood pressure attribute below:"
   ]
  },
  {
   "cell_type": "code",
   "execution_count": 12,
   "id": "cubic-duration",
   "metadata": {},
   "outputs": [
    {
     "data": {
      "text/plain": [
       "0.7238221126281117"
      ]
     },
     "execution_count": 12,
     "metadata": {},
     "output_type": "execute_result"
    }
   ],
   "source": [
    "std_bp = std(diabetes_features[:, 3])\n",
    "median_difference = abs(median_older_patients - median_younger_patients)\n",
    "median_diff_in_std = median_difference / std_bp\n",
    "median_diff_in_std"
   ]
  },
  {
   "cell_type": "markdown",
   "id": "generic-graduate",
   "metadata": {},
   "source": [
    "The difference between the median blood pressures, in terms of standard deviations, is .7238. "
   ]
  }
 ],
 "metadata": {
  "kernelspec": {
   "display_name": "Python (DataScienceEnv)",
   "language": "python",
   "name": "datascienceenv"
  },
  "language_info": {
   "codemirror_mode": {
    "name": "ipython",
    "version": 3
   },
   "file_extension": ".py",
   "mimetype": "text/x-python",
   "name": "python",
   "nbconvert_exporter": "python",
   "pygments_lexer": "ipython3",
   "version": "3.8.5"
  },
  "toc": {
   "base_numbering": 1,
   "nav_menu": {},
   "number_sections": true,
   "sideBar": true,
   "skip_h1_title": false,
   "title_cell": "Table of Contents",
   "title_sidebar": "Contents",
   "toc_cell": false,
   "toc_position": {},
   "toc_section_display": true,
   "toc_window_display": false
  },
  "varInspector": {
   "cols": {
    "lenName": 16,
    "lenType": 16,
    "lenVar": 40
   },
   "kernels_config": {
    "python": {
     "delete_cmd_postfix": "",
     "delete_cmd_prefix": "del ",
     "library": "var_list.py",
     "varRefreshCmd": "print(var_dic_list())"
    },
    "r": {
     "delete_cmd_postfix": ") ",
     "delete_cmd_prefix": "rm(",
     "library": "var_list.r",
     "varRefreshCmd": "cat(var_dic_list()) "
    }
   },
   "types_to_exclude": [
    "module",
    "function",
    "builtin_function_or_method",
    "instance",
    "_Feature"
   ],
   "window_display": false
  }
 },
 "nbformat": 4,
 "nbformat_minor": 5
}
