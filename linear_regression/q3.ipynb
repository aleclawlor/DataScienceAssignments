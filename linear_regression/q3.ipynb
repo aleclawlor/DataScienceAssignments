{
 "cells": [
  {
   "cell_type": "code",
   "execution_count": 1,
   "id": "optional-filter",
   "metadata": {},
   "outputs": [],
   "source": [
    "from numpy.linalg import pinv as pseudo_inverse\n",
    "from numpy import mean \n",
    "from sklearn.datasets import load_diabetes\n",
    "from sklearn.linear_model import LinearRegression"
   ]
  },
  {
   "cell_type": "markdown",
   "id": "center-boating",
   "metadata": {},
   "source": [
    "**Q3: Compute the Linear Regression Fit to the Diabetes Set using Matrix Computations by Hand**\n",
    "\n",
    "Primary Steps:\n",
    "\n",
    "1. Mean-Shift X, y such that each column of X has mean of 0 and y has mean of 0\n",
    "\n",
    "2. Assume $c_0$ = 0 and solve X.dot(c) $\\approx$ y\n",
    "\n",
    "3. Remember the mean information in that $c_0 = mean(y)$"
   ]
  },
  {
   "cell_type": "code",
   "execution_count": 2,
   "id": "orange-italian",
   "metadata": {},
   "outputs": [],
   "source": [
    "diabetes_data = load_diabetes()\n",
    "diabetes_features = diabetes_data.data\n",
    "diabetes_targets = diabetes_data.target"
   ]
  },
  {
   "cell_type": "markdown",
   "id": "personalized-velvet",
   "metadata": {},
   "source": [
    "We would stary by meanshifting the data such that each column of our data set has a mean of 0 and our column of target values has a mean of 0. However, the diabetes data is already standardized.  "
   ]
  },
  {
   "cell_type": "markdown",
   "id": "hourly-correspondence",
   "metadata": {},
   "source": [
    "The column vector of c values that minimize the mean squared error for our data is given by the following equation: \n",
    "\n",
    "$$C = (X^T * X)^{-1} * X * y$$\n",
    "\n",
    "It also suffices to use the More-Penrose Pseudo-Inverse (in case $(X^T * X)^{-1}$ does not exist) in order to minimize the MSE:\n",
    "\n",
    "$$C = (X^T * X)^{\\dagger} * X * y$$\n",
    "\n",
    "We use the variant with the pseduo inverse to compute C below."
   ]
  },
  {
   "cell_type": "code",
   "execution_count": 3,
   "id": "fallen-warren",
   "metadata": {},
   "outputs": [],
   "source": [
    "diabetes_features_transposed = diabetes_features.transpose()\n",
    "pseudo_inverse = pseudo_inverse(diabetes_features_transposed.dot(diabetes_features))"
   ]
  },
  {
   "cell_type": "code",
   "execution_count": 4,
   "id": "employed-costa",
   "metadata": {},
   "outputs": [
    {
     "data": {
      "text/plain": [
       "array([ -10.01219782, -239.81908937,  519.83978679,  324.39042769,\n",
       "       -792.18416163,  476.74583782,  101.04457032,  177.06417623,\n",
       "        751.27932109,   67.62538639])"
      ]
     },
     "execution_count": 4,
     "metadata": {},
     "output_type": "execute_result"
    }
   ],
   "source": [
    "C = pseudo_inverse.dot(diabetes_features_transposed).dot(diabetes_targets)\n",
    "C"
   ]
  },
  {
   "cell_type": "code",
   "execution_count": 5,
   "id": "small-assignment",
   "metadata": {},
   "outputs": [],
   "source": [
    "# remember that the bias coefficient is equal to mean(y)\n",
    "c_0 = mean(diabetes_targets)"
   ]
  },
  {
   "cell_type": "code",
   "execution_count": 6,
   "id": "stable-official",
   "metadata": {},
   "outputs": [
    {
     "name": "stdout",
     "output_type": "stream",
     "text": [
      "Reporting manually-obtained regression coefficients: \n",
      "\n",
      "c_0: 152.13348416289594\n",
      "c_1: -10.012197817492385\n",
      "c_2: -239.81908936567024\n",
      "c_3: 519.8397867900575\n",
      "c_4: 324.3904276894312\n",
      "c_5: -792.184161627983\n",
      "c_6: 476.74583782339937\n",
      "c_7: 101.04457032117944\n",
      "c_8: 177.0641762322956\n",
      "c_9: 751.279321087222\n",
      "c_10: 67.62538639102785\n"
     ]
    }
   ],
   "source": [
    "# print out the resulting coefficients\n",
    "print(\"Reporting manually-obtained regression coefficients: \\n\")\n",
    "print(\"c_0: {}\".format(c_0))\n",
    "\n",
    "for i, c in enumerate(C): \n",
    "    \n",
    "    print(\"c_{}: {}\".format(i+1, c))"
   ]
  },
  {
   "cell_type": "code",
   "execution_count": 7,
   "id": "optional-galaxy",
   "metadata": {},
   "outputs": [
    {
     "name": "stdout",
     "output_type": "stream",
     "text": [
      "Reporting regression coefficients (obtained from sklearn): \n",
      "\n",
      "c_0: 152.1334841628965\n",
      "c_1: -10.012197817470962\n",
      "c_2: -239.81908936565566\n",
      "c_3: 519.8397867901349\n",
      "c_4: 324.39042768937657\n",
      "c_5: -792.1841616283053\n",
      "c_6: 476.7458378236622\n",
      "c_7: 101.04457032134493\n",
      "c_8: 177.06417623225025\n",
      "c_9: 751.2793210873947\n",
      "c_10: 67.62538639104369\n"
     ]
    }
   ],
   "source": [
    "# comparing the values computed above with the coefficient values found via the LinearRegression class\n",
    "regression_model = LinearRegression().fit(diabetes_features, diabetes_targets)\n",
    "regression_coefficients = regression_model.coef_\n",
    "bias_coefficient = regression_model.intercept_\n",
    "\n",
    "print(\"Reporting regression coefficients (obtained from sklearn): \\n\")\n",
    "\n",
    "print(\"c_0: {}\".format(bias_coefficient))\n",
    "\n",
    "for i, c in enumerate(regression_coefficients):\n",
    "      \n",
    "      print(\"c_{}: {}\".format(i+1, c))"
   ]
  },
  {
   "cell_type": "markdown",
   "id": "mathematical-damage",
   "metadata": {},
   "source": [
    "As shown in the results above, the coefficients calculated in the different methods come out to be the same value. This makes sense because under the hood, scikit learn is performing these calculations (maybe in a slightly different way) to get the same values. As a library, scikitlearn provides a high level implementation of the process we computed by hand."
   ]
  }
 ],
 "metadata": {
  "kernelspec": {
   "display_name": "Python (DataScienceEnv)",
   "language": "python",
   "name": "datascienceenv"
  },
  "language_info": {
   "codemirror_mode": {
    "name": "ipython",
    "version": 3
   },
   "file_extension": ".py",
   "mimetype": "text/x-python",
   "name": "python",
   "nbconvert_exporter": "python",
   "pygments_lexer": "ipython3",
   "version": "3.8.5"
  },
  "toc": {
   "base_numbering": 1,
   "nav_menu": {},
   "number_sections": true,
   "sideBar": true,
   "skip_h1_title": false,
   "title_cell": "Table of Contents",
   "title_sidebar": "Contents",
   "toc_cell": false,
   "toc_position": {},
   "toc_section_display": true,
   "toc_window_display": false
  },
  "varInspector": {
   "cols": {
    "lenName": 16,
    "lenType": 16,
    "lenVar": 40
   },
   "kernels_config": {
    "python": {
     "delete_cmd_postfix": "",
     "delete_cmd_prefix": "del ",
     "library": "var_list.py",
     "varRefreshCmd": "print(var_dic_list())"
    },
    "r": {
     "delete_cmd_postfix": ") ",
     "delete_cmd_prefix": "rm(",
     "library": "var_list.r",
     "varRefreshCmd": "cat(var_dic_list()) "
    }
   },
   "types_to_exclude": [
    "module",
    "function",
    "builtin_function_or_method",
    "instance",
    "_Feature"
   ],
   "window_display": false
  }
 },
 "nbformat": 4,
 "nbformat_minor": 5
}
