{
 "cells": [
  {
   "cell_type": "code",
   "execution_count": 1,
   "metadata": {},
   "outputs": [],
   "source": [
    "from timeit import default_timer\n",
    "from numpy import array\n",
    "from numpy.random import random "
   ]
  },
  {
   "cell_type": "markdown",
   "metadata": {},
   "source": [
    "**Part A: Returns a numpy array whose elements are the squares of a given array (construct in two ways)**"
   ]
  },
  {
   "cell_type": "code",
   "execution_count": 2,
   "metadata": {},
   "outputs": [],
   "source": [
    "# a function squares each element of the original array\n",
    "def square_array(original_array):\n",
    "    \n",
    "    squared_array = list(map(lambda x: x**2, original_array))\n",
    "    square_array = array(squared_array)\n",
    "    \n",
    "    return squared_array"
   ]
  },
  {
   "cell_type": "code",
   "execution_count": 3,
   "metadata": {},
   "outputs": [],
   "source": [
    "my_array = array([1, 2, 3, 4, 5, 7, 8, 9, 10])\n",
    "squared = square_array(my_array)"
   ]
  },
  {
   "cell_type": "code",
   "execution_count": 4,
   "metadata": {},
   "outputs": [
    {
     "data": {
      "text/plain": [
       "[1, 4, 9, 16, 25, 49, 64, 81, 100]"
      ]
     },
     "execution_count": 4,
     "metadata": {},
     "output_type": "execute_result"
    }
   ],
   "source": [
    "squared"
   ]
  },
  {
   "cell_type": "code",
   "execution_count": 5,
   "metadata": {},
   "outputs": [],
   "source": [
    "# a function that uses direct numpy syntax to construct a new array\n",
    "def square_array_numpy(original_array):\n",
    "    \n",
    "    squared_array = original_array**2\n",
    "    \n",
    "    return squared_array"
   ]
  },
  {
   "cell_type": "code",
   "execution_count": 6,
   "metadata": {},
   "outputs": [],
   "source": [
    "my_array = array([1, 2, 3, 4, 5, 6, 7, 8, 9, 10])\n",
    "squared = square_array_numpy(my_array)"
   ]
  },
  {
   "cell_type": "code",
   "execution_count": 7,
   "metadata": {},
   "outputs": [
    {
     "data": {
      "text/plain": [
       "array([  1,   4,   9,  16,  25,  36,  49,  64,  81, 100], dtype=int32)"
      ]
     },
     "execution_count": 7,
     "metadata": {},
     "output_type": "execute_result"
    }
   ],
   "source": [
    "squared "
   ]
  },
  {
   "cell_type": "markdown",
   "metadata": {},
   "source": [
    "**Part B: Construct a one-dimensional numpy array of length 10^4 and reports (for each of the array squaring functions) the time taken by 1000 consecutive calls to that function**"
   ]
  },
  {
   "cell_type": "code",
   "execution_count": 8,
   "metadata": {},
   "outputs": [],
   "source": [
    "# a function that reports the runtime for the two above functions after 1000 consecutive calls\n",
    "def report_runtimes(random_array_size, num_iterations):\n",
    "    \n",
    "    random_array = random([random_array_size])\n",
    "    print(random_array, random_array.size)\n",
    "    \n",
    "    timer_start_function1 = default_timer()\n",
    "    \n",
    "    # run the function that iterates over the original array\n",
    "    for _ in range(num_iterations):\n",
    "        square_array(random_array)\n",
    "    \n",
    "    timer_end_function1 = default_timer()\n",
    "    timer_start_function2 = default_timer()\n",
    "    \n",
    "    # run the function that uses numpy element-wise multiplication\n",
    "    for _ in range(num_iterations):\n",
    "        square_array_numpy(random_array)\n",
    "        \n",
    "    timer_end_function2 = default_timer()\n",
    "        \n",
    "    # use values of the default timer to report the runtimes for each function\n",
    "    print(\"Avg. time (1 call) w/ iteration: {:.8f} seconds\".format((timer_end_function1 - timer_start_function1)))\n",
    "    print(\"Avg. time (1 call) w/ numpy squaring: {:.8f} seconds\".format((timer_end_function2 - timer_start_function2)))"
   ]
  },
  {
   "cell_type": "code",
   "execution_count": 9,
   "metadata": {},
   "outputs": [
    {
     "name": "stdout",
     "output_type": "stream",
     "text": [
      "[0.86276176 0.74465247 0.90752341 ... 0.56539004 0.20987613 0.0474892 ] 10000\n",
      "Avg. time (1 call) w/ iteration: 7.67086260 seconds\n",
      "Avg. time (1 call) w/ numpy squaring: 0.00561270 seconds\n"
     ]
    }
   ],
   "source": [
    "report_runtimes(10**4, 1000)"
   ]
  },
  {
   "cell_type": "code",
   "execution_count": null,
   "metadata": {},
   "outputs": [],
   "source": []
  }
 ],
 "metadata": {
  "kernelspec": {
   "display_name": "Python (DataScienceEnv)",
   "language": "python",
   "name": "datascienceenv"
  },
  "language_info": {
   "codemirror_mode": {
    "name": "ipython",
    "version": 3
   },
   "file_extension": ".py",
   "mimetype": "text/x-python",
   "name": "python",
   "nbconvert_exporter": "python",
   "pygments_lexer": "ipython3",
   "version": "3.8.5"
  }
 },
 "nbformat": 4,
 "nbformat_minor": 4
}
