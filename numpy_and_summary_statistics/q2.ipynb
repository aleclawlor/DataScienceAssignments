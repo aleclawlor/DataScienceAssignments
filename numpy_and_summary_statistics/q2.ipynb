{
 "cells": [
  {
   "cell_type": "code",
   "execution_count": 1,
   "id": "short-championship",
   "metadata": {},
   "outputs": [],
   "source": [
    "%matplotlib inline\n",
    "\n",
    "from numpy import mean, std, array, median, percentile  \n",
    "from numpy.random import random  \n",
    "from matplotlib.pyplot import boxplot \n",
    "from math import sqrt "
   ]
  },
  {
   "cell_type": "code",
   "execution_count": 2,
   "id": "following-boulder",
   "metadata": {},
   "outputs": [],
   "source": [
    "x = random((1000,))\n",
    "# X"
   ]
  },
  {
   "cell_type": "markdown",
   "id": "unlimited-chick",
   "metadata": {},
   "source": [
    "**Part A: Compute the sample's Mean and Standard Deviation Using Numpy functions**"
   ]
  },
  {
   "cell_type": "code",
   "execution_count": 3,
   "id": "abstract-walnut",
   "metadata": {},
   "outputs": [
    {
     "data": {
      "text/plain": [
       "0.5057000380848997"
      ]
     },
     "execution_count": 3,
     "metadata": {},
     "output_type": "execute_result"
    }
   ],
   "source": [
    "sample_mean_x = mean(x)\n",
    "sample_mean_x"
   ]
  },
  {
   "cell_type": "code",
   "execution_count": 4,
   "id": "adequate-master",
   "metadata": {
    "scrolled": true
   },
   "outputs": [
    {
     "data": {
      "text/plain": [
       "0.29539677637048345"
      ]
     },
     "execution_count": 4,
     "metadata": {},
     "output_type": "execute_result"
    }
   ],
   "source": [
    "sample_std_x = std(x)\n",
    "sample_std_x"
   ]
  },
  {
   "cell_type": "markdown",
   "id": "prostate-riverside",
   "metadata": {},
   "source": [
    "**Part B: Compute the standardized version of the original sample of x. We can convert the dataset to a standard normal distribution by applying the following standardization to each x_i**\n",
    "\n",
    "$$ z = \\frac{x - \\bar{x}}{\\sigma} $$"
   ]
  },
  {
   "cell_type": "code",
   "execution_count": 5,
   "id": "amazing-testament",
   "metadata": {},
   "outputs": [],
   "source": [
    "def standardize(x, sample_mean, std):\n",
    "\n",
    "    x_standardized = (x - sample_mean) / std\n",
    "    \n",
    "    return x_standardized"
   ]
  },
  {
   "cell_type": "code",
   "execution_count": 6,
   "id": "liable-injection",
   "metadata": {},
   "outputs": [],
   "source": [
    "x_standardized = array([standardize(x_i, sample_mean_x, sample_std_x) for x_i in x])\n",
    "# x_standardized"
   ]
  },
  {
   "cell_type": "markdown",
   "id": "sitting-fault",
   "metadata": {},
   "source": [
    "We took a normal distribution and standardized it so that it becomes a standard normal distribution. By definition of the standard normal distribution, the mean should be 0 and the standard deviation should be 1. We check in the code below: "
   ]
  },
  {
   "cell_type": "code",
   "execution_count": 7,
   "id": "mobile-scratch",
   "metadata": {},
   "outputs": [
    {
     "data": {
      "text/plain": [
       "1.8474111129762604e-16"
      ]
     },
     "execution_count": 7,
     "metadata": {},
     "output_type": "execute_result"
    }
   ],
   "source": [
    "mean_standardized = mean(x_standardized)\n",
    "mean_standardized"
   ]
  },
  {
   "cell_type": "code",
   "execution_count": 8,
   "id": "personal-lawyer",
   "metadata": {},
   "outputs": [
    {
     "data": {
      "text/plain": [
       "1.0"
      ]
     },
     "execution_count": 8,
     "metadata": {},
     "output_type": "execute_result"
    }
   ],
   "source": [
    "std_standardized = std(x_standardized)\n",
    "std_standardized "
   ]
  },
  {
   "cell_type": "markdown",
   "id": "compressed-runner",
   "metadata": {},
   "source": [
    "**Part C: Draw a boxplot of the set of square roots of the elements of the sample x (plot with matplotlib.pyplot.boxplot)**"
   ]
  },
  {
   "cell_type": "code",
   "execution_count": 9,
   "id": "alpine-popularity",
   "metadata": {},
   "outputs": [
    {
     "data": {
      "image/png": "[encoded data removed]",
      "text/plain": [
       "<Figure size 432x288 with 1 Axes>"
      ]
     },
     "metadata": {
      "needs_background": "light"
     },
     "output_type": "display_data"
    }
   ],
   "source": [
    "x_square_roots = array([sqrt(u) for u in x])\n",
    "\n",
    "box = boxplot(x_square_roots)\n",
    "# box"
   ]
  },
  {
   "cell_type": "markdown",
   "id": "headed-dispatch",
   "metadata": {},
   "source": [
    "**Part D: Using Numpy, compute the numerical locations of the three parallel line segments that form the main body of the box plot above**\n",
    "\n",
    "In other words, we need to find the 3rd quartile (topmost line), the 1st quartile (bottommost line), and the median (the line in the middle)"
   ]
  },
  {
   "cell_type": "code",
   "execution_count": 10,
   "id": "quality-raising",
   "metadata": {},
   "outputs": [
    {
     "data": {
      "text/plain": [
       "0.7152223829609285"
      ]
     },
     "execution_count": 10,
     "metadata": {},
     "output_type": "execute_result"
    }
   ],
   "source": [
    "# middlemost line -> median \n",
    "\n",
    "median = median(x_square_roots)\n",
    "median "
   ]
  },
  {
   "cell_type": "code",
   "execution_count": 11,
   "id": "likely-zoning",
   "metadata": {},
   "outputs": [
    {
     "data": {
      "text/plain": [
       "0.8701397127134112"
      ]
     },
     "execution_count": 11,
     "metadata": {},
     "output_type": "execute_result"
    }
   ],
   "source": [
    "# topmost line -> 3rd quartile\n",
    "# the 3rd quartile is the same as the 75th percentile\n",
    "\n",
    "quartile3 = percentile(x_square_roots, 75)\n",
    "quartile3"
   ]
  },
  {
   "cell_type": "code",
   "execution_count": 12,
   "id": "significant-heather",
   "metadata": {},
   "outputs": [
    {
     "data": {
      "text/plain": [
       "0.5030572095323681"
      ]
     },
     "execution_count": 12,
     "metadata": {},
     "output_type": "execute_result"
    }
   ],
   "source": [
    "# bottommost line -> 1st quartile\n",
    "# the 1st quartile is the same as the 25th percentile\n",
    "\n",
    "quartile3 = percentile(x_square_roots, 25)\n",
    "quartile3"
   ]
  }
 ],
 "metadata": {
  "kernelspec": {
   "display_name": "Python (DataScienceEnv)",
   "language": "python",
   "name": "datascienceenv"
  },
  "language_info": {
   "codemirror_mode": {
    "name": "ipython",
    "version": 3
   },
   "file_extension": ".py",
   "mimetype": "text/x-python",
   "name": "python",
   "nbconvert_exporter": "python",
   "pygments_lexer": "ipython3",
   "version": "3.8.5"
  }
 },
 "nbformat": 4,
 "nbformat_minor": 5
}
