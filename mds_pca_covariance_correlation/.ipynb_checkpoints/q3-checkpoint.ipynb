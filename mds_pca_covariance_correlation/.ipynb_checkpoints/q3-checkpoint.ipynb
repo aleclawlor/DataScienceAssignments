{
 "cells": [
  {
   "cell_type": "code",
   "execution_count": 1,
   "id": "front-profit",
   "metadata": {},
   "outputs": [],
   "source": [
    "from sklearn.datasets import load_iris\n",
    "from numpy import cov as covM \n",
    "from numpy import corrcoef as corrM\n",
    "import matplotlib.pyplot as plt \n",
    "from numpy import array "
   ]
  },
  {
   "cell_type": "markdown",
   "id": "bright-audience",
   "metadata": {},
   "source": [
    "**Part A**"
   ]
  },
  {
   "cell_type": "code",
   "execution_count": 2,
   "id": "located-brake",
   "metadata": {
    "cell_style": "center",
    "scrolled": false
   },
   "outputs": [],
   "source": [
    "iris_data = load_iris()\n",
    "# iris_data"
   ]
  },
  {
   "cell_type": "code",
   "execution_count": 3,
   "id": "prime-listing",
   "metadata": {},
   "outputs": [],
   "source": [
    "iris_feats = iris_data.data\n",
    "iris_targets = iris_data.target"
   ]
  },
  {
   "cell_type": "code",
   "execution_count": 4,
   "id": "signed-listening",
   "metadata": {},
   "outputs": [
    {
     "name": "stdout",
     "output_type": "stream",
     "text": [
      "Covariance matrix of the Iris Dataset\n",
      "\n",
      " [[ 0.68569351 -0.042434    1.27431544  0.51627069]\n",
      " [-0.042434    0.18997942 -0.32965638 -0.12163937]\n",
      " [ 1.27431544 -0.32965638  3.11627785  1.2956094 ]\n",
      " [ 0.51627069 -0.12163937  1.2956094   0.58100626]]\n"
     ]
    }
   ],
   "source": [
    "covariance_matrix = covM(iris_feats, rowvar=False)\n",
    "print(\"Covariance matrix of the Iris Dataset\\n\\n\", covariance_matrix)"
   ]
  },
  {
   "cell_type": "code",
   "execution_count": 5,
   "id": "narrative-declaration",
   "metadata": {},
   "outputs": [
    {
     "name": "stdout",
     "output_type": "stream",
     "text": [
      "Correlation matrix of the Iris Dataset\n",
      "\n",
      " [[ 1.         -0.11756978  0.87175378  0.81794113]\n",
      " [-0.11756978  1.         -0.4284401  -0.36612593]\n",
      " [ 0.87175378 -0.4284401   1.          0.96286543]\n",
      " [ 0.81794113 -0.36612593  0.96286543  1.        ]]\n"
     ]
    }
   ],
   "source": [
    "correlation_matrix = corrM(iris_feats, rowvar=False)\n",
    "print(\"Correlation matrix of the Iris Dataset\\n\\n\", correlation_matrix)"
   ]
  },
  {
   "cell_type": "markdown",
   "id": "material-tokyo",
   "metadata": {},
   "source": [
    "**Part B**"
   ]
  },
  {
   "cell_type": "code",
   "execution_count": 6,
   "id": "marine-naples",
   "metadata": {
    "scrolled": false
   },
   "outputs": [
    {
     "data": {
      "text/plain": [
       "<matplotlib.collections.PathCollection at 0x1698c2538b0>"
      ]
     },
     "execution_count": 6,
     "metadata": {},
     "output_type": "execute_result"
    },
    {
     "data": {
      "image/png": "[encoded data removed]",
      "text/plain": [
       "<Figure size 432x288 with 1 Axes>"
      ]
     },
     "metadata": {
      "needs_background": "light"
     },
     "output_type": "display_data"
    }
   ],
   "source": [
    "# focusing on attributes 1 and 2 \n",
    "\n",
    "attr1_column = iris_feats[:, 1]\n",
    "attr2_column = iris_feats[:, 2]\n",
    "\n",
    "plt.xlabel('Sepal Width')\n",
    "plt.ylabel('Petal Height')\n",
    "\n",
    "plt.scatter(attr1_column, attr2_column, c=iris_targets)"
   ]
  },
  {
   "cell_type": "markdown",
   "id": "bored-borough",
   "metadata": {},
   "source": [
    "What is surprising is that the correlation matrix for the Iris dataset gives a negative covariance between sepal length and sepal width (about -.11), however, when we look at each class alone, the relation appears to be positively correlated (even to a high magnitude). So, the two variables are negatively correlated on the whole of the dataset (as determined above) but appear to be positively correlated when looking at the class alone. The scatterplot reflects this global negative covariance (note that it is to a small magnitude) but positive correlation among individual classes. "
   ]
  },
  {
   "cell_type": "markdown",
   "id": "homeless-disney",
   "metadata": {},
   "source": [
    "**Part C**"
   ]
  },
  {
   "cell_type": "code",
   "execution_count": 7,
   "id": "electronic-easter",
   "metadata": {},
   "outputs": [
    {
     "data": {
      "text/plain": [
       "{0: 'setosa', 1: 'versicolor', 2: 'virginica'}"
      ]
     },
     "execution_count": 7,
     "metadata": {},
     "output_type": "execute_result"
    }
   ],
   "source": [
    "target_names = iris_data.target_names\n",
    "label_dict = {identifier : target_names[identifier] for identifier in range(3)}\n",
    "\n",
    "label_dict"
   ]
  },
  {
   "cell_type": "code",
   "execution_count": 8,
   "id": "numeric-performer",
   "metadata": {},
   "outputs": [
    {
     "name": "stdout",
     "output_type": "stream",
     "text": [
      "Correlation matrix: \n",
      "row1, col1 = sepal length\n",
      "row2, col2 = sepal width\n",
      "\n",
      "Correlation matrix for setosa\n",
      "[[1.         0.17769997]\n",
      " [0.17769997 1.        ]]\n",
      "\n",
      "Correlation matrix for versicolor\n",
      "[[1.         0.56052209]\n",
      " [0.56052209 1.        ]]\n",
      "\n",
      "Correlation matrix for virginica\n",
      "[[1.         0.40104458]\n",
      " [0.40104458 1.        ]]\n"
     ]
    }
   ],
   "source": [
    "print(\"Correlation matrix: \\nrow1, col1 = sepal width\\nrow2, col2 = petal height\")\n",
    "\n",
    "# for each class, compute the correlation coefficient \n",
    "for key in label_dict.keys():\n",
    "    \n",
    "    print(\"\\nCorrelation matrix for {}\".format(label_dict[key]))\n",
    "    \n",
    "    attr1 = attr1_column[iris_targets == key]\n",
    "    attr2 = attr2_column[iris_targets == key]\n",
    "    \n",
    "    corr_matrix = corrM(attr1, attr2, rowvar=False)\n",
    "    print(corr_matrix)\n",
    "    "
   ]
  },
  {
   "cell_type": "markdown",
   "id": "referenced-messenger",
   "metadata": {},
   "source": [
    "The per-class correlations all are positive and of relatively high magnitude, suggesting that sepal length and width are positively correlated when analyzing individual classes. This is different from the overall correlation, as explained in the preceding part, in which the correlation was negative. The results from this part of the question appear to confirm our hypothesis from the previous part in that sepal length and width are positively correlated for individual classes. We could see this relationship in the previous plot by looking at the individual color-coded classes and noting that as sepal length increases, sepal width tends to increase as well, suggesting positive correlation "
   ]
  }
 ],
 "metadata": {
  "kernelspec": {
   "display_name": "Python (DataScienceEnv)",
   "language": "python",
   "name": "datascienceenv"
  },
  "language_info": {
   "codemirror_mode": {
    "name": "ipython",
    "version": 3
   },
   "file_extension": ".py",
   "mimetype": "text/x-python",
   "name": "python",
   "nbconvert_exporter": "python",
   "pygments_lexer": "ipython3",
   "version": "3.8.5"
  },
  "toc": {
   "base_numbering": 1,
   "nav_menu": {},
   "number_sections": true,
   "sideBar": true,
   "skip_h1_title": false,
   "title_cell": "Table of Contents",
   "title_sidebar": "Contents",
   "toc_cell": false,
   "toc_position": {},
   "toc_section_display": true,
   "toc_window_display": false
  },
  "varInspector": {
   "cols": {
    "lenName": 16,
    "lenType": 16,
    "lenVar": 40
   },
   "kernels_config": {
    "python": {
     "delete_cmd_postfix": "",
     "delete_cmd_prefix": "del ",
     "library": "var_list.py",
     "varRefreshCmd": "print(var_dic_list())"
    },
    "r": {
     "delete_cmd_postfix": ") ",
     "delete_cmd_prefix": "rm(",
     "library": "var_list.r",
     "varRefreshCmd": "cat(var_dic_list()) "
    }
   },
   "types_to_exclude": [
    "module",
    "function",
    "builtin_function_or_method",
    "instance",
    "_Feature"
   ],
   "window_display": false
  }
 },
 "nbformat": 4,
 "nbformat_minor": 5
}
