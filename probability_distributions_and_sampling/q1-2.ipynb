{
 "metadata": {
  "language_info": {
   "codemirror_mode": {
    "name": "ipython",
    "version": 3
   },
   "file_extension": ".py",
   "mimetype": "text/x-python",
   "name": "python",
   "nbconvert_exporter": "python",
   "pygments_lexer": "ipython3",
   "version": "3.8.5-final"
  },
  "orig_nbformat": 2,
  "kernelspec": {
   "name": "python385jvsc74a57bd05e8dd92667ef4398126b9b7b2375d6aa90fb233b9b8046848b591adcbf9e32b0",
   "display_name": "Python 3.8.5 64-bit ('DataScienceEnv': conda)"
  }
 },
 "nbformat": 4,
 "nbformat_minor": 2,
 "cells": [
  {
   "source": [
    "**Part A: Probability of all three labels predicted correctly**\n",
    "\n",
    "Consider the case where we draw 3 independent samples randomly from the population. Each sample has a probability 3/4 of being correctly labeled. Thus, to the probability that k samples are labeled correctly is modeled by a binomial distribution with the following pmf:\n",
    "\n",
    "$$P_X(k) = \\binom{3}{k}(\\frac{3}{4})^k(\\frac{1}{4})^{3-k}$$\n",
    "\n",
    "and therefore the probability of all 3 successes is given by \n",
    "\n",
    "$$P_X(k) = \\binom{3}{3}(\\frac{3}{4})^3(\\frac{1}{4})^{0} = \\frac{27}{64} \\approx  .4219$$"
   ],
   "cell_type": "markdown",
   "metadata": {}
  },
  {
   "source": [
    "**Part B: Probability of 7 correct samples in 10 draws (independently selected)**\n",
    "\n",
    "Again, we are counting the number of successes in a fixed number of trials, which leads us to a binomial distribution. There are 10 choose 7 ways to get 7 correct samples out of 10 samples, while the probability of an individual correct prediction is 3/4, and the probability of an individual incorrect prediction is 1/4. Therefore,\n",
    "\n",
    "$$P_X(7) = \\binom{10}{7}(\\frac{3}{4})^7(\\frac{1}{4})^{3} = \\frac{27}{64} \\approx  .2503$$"
   ],
   "cell_type": "markdown",
   "metadata": {}
  }
 ]
}