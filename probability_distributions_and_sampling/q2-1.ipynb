{
 "metadata": {
  "language_info": {
   "codemirror_mode": {
    "name": "ipython",
    "version": 3
   },
   "file_extension": ".py",
   "mimetype": "text/x-python",
   "name": "python",
   "nbconvert_exporter": "python",
   "pygments_lexer": "ipython3",
   "version": "3.8.5-final"
  },
  "orig_nbformat": 2,
  "kernelspec": {
   "name": "python385jvsc74a57bd05e8dd92667ef4398126b9b7b2375d6aa90fb233b9b8046848b591adcbf9e32b0",
   "display_name": "Python 3.8.5 64-bit ('DataScienceEnv': conda)"
  }
 },
 "nbformat": 4,
 "nbformat_minor": 2,
 "cells": [
  {
   "cell_type": "code",
   "execution_count": 1,
   "metadata": {},
   "outputs": [],
   "source": [
    "from sklearn.datasets import load_wine\n",
    "from math import sqrt\n",
    "from scipy.stats import binom\n",
    "from random import randint\n",
    "from numpy import array\n",
    "from numpy.random import shuffle"
   ]
  },
  {
   "source": [
    "**Part A: Working with \"Class 2\" of the Wine Dataset**"
   ],
   "cell_type": "markdown",
   "metadata": {}
  },
  {
   "cell_type": "code",
   "execution_count": 2,
   "metadata": {},
   "outputs": [],
   "source": [
    "wine = load_wine()\n",
    "\n",
    "X = wine['data']\n",
    "target = wine['target']"
   ]
  },
  {
   "cell_type": "code",
   "execution_count": 3,
   "metadata": {},
   "outputs": [
    {
     "output_type": "stream",
     "name": "stdout",
     "text": [
      "Fraction of Instances belonging to Class 2: 0.2696629213483146\n"
     ]
    }
   ],
   "source": [
    "# determine what fraction of the data instances belong to class 2 \n",
    "fraction_of_2 = sum(target == 2) / len(target)\n",
    "print(\"Fraction of Instances belonging to Class 2: {}\".format(fraction_of_2))"
   ]
  },
  {
   "source": [
    "Suppose we take a sample size of n=40, and for each independent sample, the probability of getting an instance of class 2 is the value we just determined. Then, the number of class 2 samples is modeled by a binomial distribution with \n",
    "\n",
    "$$E[X] = np = 40(.2697)$$"
   ],
   "cell_type": "markdown",
   "metadata": {}
  },
  {
   "cell_type": "code",
   "execution_count": 4,
   "metadata": {},
   "outputs": [
    {
     "output_type": "stream",
     "name": "stdout",
     "text": [
      "Int closest to expected value: 11\n"
     ]
    }
   ],
   "source": [
    "# determine the integer closed to the expected value of the number of class 2 instances in a sample size of 40 \n",
    "\n",
    "print(\"Int closest to expected value: {}\".format(round(fraction_of_2 * 40)))"
   ]
  },
  {
   "source": [
    "**Part B: Probability that the fraction will be < 5 units from p**"
   ],
   "cell_type": "markdown",
   "metadata": {}
  },
  {
   "cell_type": "code",
   "execution_count": 5,
   "metadata": {},
   "outputs": [
    {
     "output_type": "stream",
     "name": "stdout",
     "text": [
      "(0.2196629213483146, 0.3196629213483146)\n[9, 10, 11, 12]\n"
     ]
    }
   ],
   "source": [
    "interval = (fraction_of_2 - .05, fraction_of_2 + .05)\n",
    "print(interval)\n",
    "\n",
    "# this is the intervals of frequencies that are less than or equal to .05 units away from p \n",
    "# we can iterate through every value between 0 and 40 and see if the current value falls within the range \n",
    "\n",
    "satisfying_integers = []\n",
    "bound1 = interval[0]\n",
    "bound2 = interval[1]\n",
    "\n",
    "for k in range(0, 40+1):\n",
    "    \n",
    "    # if we have k successes, we can write this as a ratio\n",
    "    proportion = k/40\n",
    "\n",
    "    if proportion > bound1 and proportion < bound2:\n",
    "        satisfying_integers.append(k)\n",
    "\n",
    "print(satisfying_integers)"
   ]
  },
  {
   "cell_type": "code",
   "execution_count": 11,
   "metadata": {},
   "outputs": [
    {
     "output_type": "stream",
     "name": "stdout",
     "text": [
      "Probability of being in range: 0.524\n"
     ]
    }
   ],
   "source": [
    "# now that we have the integers satifsying this condtion, we can use the pmf of the binomial distribution to find the probability that we get this many successes \n",
    "\n",
    "probability_in_range = sum([binom.pmf(k, 40, fraction_of_2) for k in satisfying_integers])\n",
    "print(\"Probability of being in range: {}\".format(round(probability_in_range, 3)))"
   ]
  },
  {
   "source": [
    "**Part C: Use Monte Carlo Simulation to Estimate the probability value in the preceding part**\n",
    "\n",
    "For choosing the number of iterations, we need to consider that the magnitude of error is given by $1/\\sqrt{N}$ where N is the number of iterations. We set up the following inequality to determine how many iterations we should use, considering that we want to be within three decimals places:\n",
    "\n",
    "$$\n",
    "\\frac{1}{\\sqrt{N}} \\le .0005 \\implies N \\ge 4,000,000\n",
    "$$"
   ],
   "cell_type": "markdown",
   "metadata": {}
  },
  {
   "cell_type": "code",
   "execution_count": 19,
   "metadata": {
    "tags": []
   },
   "outputs": [
    {
     "output_type": "stream",
     "name": "stdout",
     "text": [
      "Probability of being in range (monte): 0.524\n"
     ]
    }
   ],
   "source": [
    "num_iter = 4 * 10**6\n",
    "successes = 0\n",
    "\n",
    "# create a copy of the target array so we can shuffle but preserve the original target values \n",
    "target_copy = target\n",
    "for _ in range(num_iter):\n",
    "\n",
    "    # simulate process of getting a sampling a single set of size 40 from the original dataset \n",
    "    sample = []\n",
    "\n",
    "    # shuffle(target_copy)\n",
    "    # sample = target_copy[:40]\n",
    "    \n",
    "    for __ in range(40):\n",
    "        index = randint(0, len(target_copy)-1)\n",
    "        # shuffle(target_copy)\n",
    "        sample.append(target_copy[index])\n",
    "\n",
    "    # typecast sample array to numpy array for boolean indexing\n",
    "    sample = array(sample)\n",
    "\n",
    "    num_success = sum(sample == 2)\n",
    "\n",
    "    if num_success in satisfying_integers:\n",
    "        successes += 1\n",
    "\n",
    "print(\"Probability of being in range (monte): {}\".format(round(successes/num_iter, 3)))\n"
   ]
  },
  {
   "cell_type": "code",
   "execution_count": null,
   "metadata": {},
   "outputs": [],
   "source": []
  }
 ]
}