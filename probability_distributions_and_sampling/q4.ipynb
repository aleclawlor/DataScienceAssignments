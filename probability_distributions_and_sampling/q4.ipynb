{
 "metadata": {
  "language_info": {
   "codemirror_mode": {
    "name": "ipython",
    "version": 3
   },
   "file_extension": ".py",
   "mimetype": "text/x-python",
   "name": "python",
   "nbconvert_exporter": "python",
   "pygments_lexer": "ipython3",
   "version": "3.8.3-final"
  },
  "orig_nbformat": 2,
  "kernelspec": {
   "name": "python383jvsc74a57bd0ccedf6ab7314c5e9158d410195f32eb67a2dac1f8761b160ddebde4fe3b9f745",
   "display_name": "Python 3.8.3 64-bit (conda)"
  }
 },
 "nbformat": 4,
 "nbformat_minor": 2,
 "cells": [
  {
   "source": [
    "**Part A: Sampling With/Without Replacement**"
   ],
   "cell_type": "markdown",
   "metadata": {}
  },
  {
   "cell_type": "code",
   "execution_count": 50,
   "metadata": {},
   "outputs": [],
   "source": [
    "from numpy import mean, std, array\n",
    "from numpy.random import choice, sample\n",
    "from sklearn.datasets import load_wine \n",
    "from random import sample"
   ]
  },
  {
   "cell_type": "code",
   "execution_count": 51,
   "metadata": {},
   "outputs": [],
   "source": [
    "# load the wine dataset \n",
    "wine = load_wine()\n",
    "target = wine['target']"
   ]
  },
  {
   "cell_type": "code",
   "execution_count": 52,
   "metadata": {},
   "outputs": [],
   "source": [
    "# generate a size 40 sample w/ replacement\n",
    "def X():\n",
    "\n",
    "    return sum(array([choice(target) for _ in range(40)]) == 2)"
   ]
  },
  {
   "cell_type": "code",
   "execution_count": 53,
   "metadata": {},
   "outputs": [],
   "source": [
    "# generate a size 40 sample w/o replacement\n",
    "def Y():\n",
    "\n",
    "    return sum(array(sample(list(target), 40)) == 2)"
   ]
  },
  {
   "source": [
    "**Part B: Return Monte Carlo Estimates of the Expected Value and Stdev of a Given RV**"
   ],
   "cell_type": "markdown",
   "metadata": {}
  },
  {
   "cell_type": "code",
   "execution_count": 54,
   "metadata": {},
   "outputs": [],
   "source": [
    "def rvStats(RV):\n",
    "\n",
    "    num_iter = 10**4\n",
    "\n",
    "    outcomes = array([RV() for _ in range(num_iter)])\n",
    "\n",
    "    # I know how to do these on paper but I also know how to write efficient code \n",
    "    E_e = mean(outcomes)\n",
    "    S_e = std(outcomes)\n",
    "\n",
    "    return E_e, S_e"
   ]
  },
  {
   "source": [
    "**Part C: Compute the Expectation and Stdev for the RV's described Previously**"
   ],
   "cell_type": "markdown",
   "metadata": {}
  },
  {
   "cell_type": "code",
   "execution_count": 55,
   "metadata": {},
   "outputs": [
    {
     "output_type": "stream",
     "name": "stdout",
     "text": [
      "Expectation (w/ replacement): 10.8047\nStdev (w/ replacement): 2.7822936419436393\n"
     ]
    }
   ],
   "source": [
    "# exp, stdev of sampling w/ replacement\n",
    "exp, stdev = rvStats(X)\n",
    "\n",
    "print(\"Expectation (w/ replacement): {}\".format(exp))\n",
    "print(\"Stdev (w/ replacement): {}\".format(stdev))"
   ]
  },
  {
   "cell_type": "code",
   "execution_count": 56,
   "metadata": {},
   "outputs": [
    {
     "output_type": "stream",
     "name": "stdout",
     "text": [
      "Expectation (w/o replacement): 10.7761\nStdev (w/o replacement): 2.485431308646449\n"
     ]
    }
   ],
   "source": [
    "# exp, stdev of sampling w/0 replacement\n",
    "exp, stdev = rvStats(Y)\n",
    "\n",
    "print(\"Expectation (w/o replacement): {}\".format(exp))\n",
    "print(\"Stdev (w/o replacement): {}\".format(stdev))"
   ]
  },
  {
   "source": [
    "Based on the monte carlo simulations, we see that the expected value between sampling with and without replacement are about the same, while the standard deviation for sampling without replacement is slightly lower than that of sampling with replacement. "
   ],
   "cell_type": "markdown",
   "metadata": {}
  }
 ]
}