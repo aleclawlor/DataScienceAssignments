{
 "cells": [
  {
   "cell_type": "code",
   "execution_count": 1,
   "id": "tired-nursing",
   "metadata": {},
   "outputs": [],
   "source": [
    "from sklearn.linear_model import SGDClassifier\n",
    "from sklearn.preprocessing import StandardScaler, PolynomialFeatures\n",
    "from sklearn.pipeline import make_pipeline\n",
    "from sklearn.model_selection import cross_val_score\n",
    "from numpy import loadtxt, stack, mean, array, append, arange, absolute, random, logical_and\n",
    "import matplotlib.pyplot as plt "
   ]
  },
  {
   "cell_type": "markdown",
   "id": "complimentary-undergraduate",
   "metadata": {},
   "source": [
    "**Q1 Part A: Build and SGDC Classifier and Report its Accuracy**"
   ]
  },
  {
   "cell_type": "code",
   "execution_count": 2,
   "id": "composed-irish",
   "metadata": {},
   "outputs": [],
   "source": [
    "# import the data using numpy\n",
    "var1, var2, y = loadtxt(\"./blobData.txt\", delimiter=\",\", unpack=True)\n",
    "X = stack([var1, var2], axis=1)"
   ]
  },
  {
   "cell_type": "code",
   "execution_count": 3,
   "id": "manufactured-segment",
   "metadata": {},
   "outputs": [
    {
     "data": {
      "text/plain": [
       "Pipeline(steps=[('standardscaler', StandardScaler()),\n",
       "                ('sgdclassifier', SGDClassifier())])"
      ]
     },
     "execution_count": 3,
     "metadata": {},
     "output_type": "execute_result"
    }
   ],
   "source": [
    "# create the classifier and fit it to the data \n",
    "classifier = make_pipeline(StandardScaler(), SGDClassifier())\n",
    "classifier.fit(X, y)"
   ]
  },
  {
   "cell_type": "code",
   "execution_count": 4,
   "id": "drawn-sound",
   "metadata": {},
   "outputs": [
    {
     "name": "stdout",
     "output_type": "stream",
     "text": [
      "Classification Score (Linear Features): 0.54\n"
     ]
    }
   ],
   "source": [
    "classification_score = classifier.score(X, y)\n",
    "print(\"Classification Score (Linear Features): {}\".format(classification_score))"
   ]
  },
  {
   "cell_type": "markdown",
   "id": "mounted-justice",
   "metadata": {},
   "source": [
    "**Q1 Part B: Extract Quadratic Features and Report on Classificiation Accurracy**"
   ]
  },
  {
   "cell_type": "code",
   "execution_count": 5,
   "id": "wrong-objective",
   "metadata": {},
   "outputs": [],
   "source": [
    "# generate the polynomial features \n",
    "poly = PolynomialFeatures(2)\n",
    "quadratic_features = poly.fit_transform(X)"
   ]
  },
  {
   "cell_type": "code",
   "execution_count": 6,
   "id": "prescribed-browser",
   "metadata": {},
   "outputs": [
    {
     "data": {
      "text/plain": [
       "Pipeline(steps=[('standardscaler', StandardScaler()),\n",
       "                ('sgdclassifier', SGDClassifier())])"
      ]
     },
     "execution_count": 6,
     "metadata": {},
     "output_type": "execute_result"
    }
   ],
   "source": [
    "# create the classifier and fit it to the data \n",
    "classifier_quadratic = make_pipeline(StandardScaler(), SGDClassifier())\n",
    "classifier_quadratic.fit(quadratic_features, y)"
   ]
  },
  {
   "cell_type": "code",
   "execution_count": 7,
   "id": "lonely-blame",
   "metadata": {},
   "outputs": [
    {
     "name": "stdout",
     "output_type": "stream",
     "text": [
      "Classification Score (Quadratic Features): 0.96\n"
     ]
    }
   ],
   "source": [
    "classification_score_quadratic = classifier_quadratic.score(quadratic_features, y)\n",
    "print(\"Classification Score (Quadratic Features): {}\".format(classification_score_quadratic))"
   ]
  },
  {
   "cell_type": "markdown",
   "id": "editorial-brave",
   "metadata": {},
   "source": [
    "The quadratic feature extraction seems to be extermely benificial. Before quadratic feature extraction, the average accuracy on the test data is around 50%, however, the model fitted with the quadratic features has an average accuracy of 95%, a significant jump from the 50% average of the linear features. Because of this, the quadratic features are a signficicant improvement."
   ]
  },
  {
   "cell_type": "markdown",
   "id": "documented-globe",
   "metadata": {},
   "source": [
    "**Q2 Part A: Use Cross Validation to Test Performance on Unseen Samples**"
   ]
  },
  {
   "cell_type": "code",
   "execution_count": 8,
   "id": "oriented-maryland",
   "metadata": {},
   "outputs": [
    {
     "name": "stdout",
     "output_type": "stream",
     "text": [
      "Mean Cross Validation Score (Linear): 0.46955128205128205\n"
     ]
    }
   ],
   "source": [
    "# get the score for the original fit \n",
    "scores = cross_val_score(classifier, X, y, cv=8)\n",
    "\n",
    "print(\"Mean Cross Validation Score (Linear): {}\".format(mean(scores)))"
   ]
  },
  {
   "cell_type": "code",
   "execution_count": 9,
   "id": "confused-checklist",
   "metadata": {},
   "outputs": [
    {
     "name": "stdout",
     "output_type": "stream",
     "text": [
      "Mean Cross Validation Score (Quadratic): 0.9391025641025641\n"
     ]
    }
   ],
   "source": [
    "# get the score for the quadratic fit \n",
    "scores_quadratic = cross_val_score(classifier_quadratic, quadratic_features, y, cv=8)\n",
    "\n",
    "print(\"Mean Cross Validation Score (Quadratic): {}\".format(mean(scores_quadratic)))"
   ]
  },
  {
   "cell_type": "markdown",
   "id": "labeled-terminal",
   "metadata": {},
   "source": [
    "**Q2 Part B: Report Cross Validations Averages Over Polynomials of Varying Degrees**"
   ]
  },
  {
   "cell_type": "code",
   "execution_count": 10,
   "id": "connected-chart",
   "metadata": {
    "scrolled": true
   },
   "outputs": [
    {
     "name": "stdout",
     "output_type": "stream",
     "text": [
      "Mean Cross Validation Score (2 Degrees): 0.9291722756410264\n",
      "Mean Cross Validation Score (4 Degrees): 0.9208894230769236\n",
      "Mean Cross Validation Score (6 Degrees): 0.9303581730769239\n"
     ]
    }
   ],
   "source": [
    "for degree in [2, 4, 6]:\n",
    "    \n",
    "    # generate the polynomial features \n",
    "    poly = PolynomialFeatures(degree)\n",
    "    features = poly.fit_transform(X)\n",
    "    \n",
    "    # create the classifier and fit it to the data \n",
    "    classifier = make_pipeline(StandardScaler(), SGDClassifier())\n",
    "    classifier.fit(features, y)\n",
    "    \n",
    "    score_sum = 0\n",
    "    # run the cross validation 1000 times \n",
    "    for _ in range(1000):\n",
    "        \n",
    "        # get the score for the quadratic fit \n",
    "        scores = cross_val_score(classifier, features, y, cv=8)\n",
    "        score_sum += mean(scores)\n",
    "        \n",
    "    avg_total = score_sum / 1000\n",
    "    print(\"Mean Cross Validation Score ({} Degrees): {}\".format(degree, avg_total))"
   ]
  },
  {
   "cell_type": "markdown",
   "id": "thorough-favorite",
   "metadata": {},
   "source": [
    "**Q3 Part A: Compute Mean Values of Coefficients over 1000 Iterations**"
   ]
  },
  {
   "cell_type": "code",
   "execution_count": 11,
   "id": "structural-mother",
   "metadata": {},
   "outputs": [
    {
     "name": "stdout",
     "output_type": "stream",
     "text": [
      "Averages [-391.8776615123826, 1.806399301070677, -1.8077996080170593, 63.562861704049226, 3.78355640835006, 62.5862202614384]\n"
     ]
    }
   ],
   "source": [
    "# repeat the SGDClassifier fitting over degree 2 data 1000 times \n",
    "\n",
    "# generate the polynomial features \n",
    "poly = PolynomialFeatures(2, include_bias=False)\n",
    "features = poly.fit_transform(X)\n",
    "\n",
    "# create the classifier and fit it to the data \n",
    "classifier = make_pipeline(SGDClassifier())\n",
    "\n",
    "# hold the coefficients and intercepts from each iteration \n",
    "coeffs = []\n",
    "intercepts = []\n",
    "\n",
    "for _ in range(1000):\n",
    "    \n",
    "    classifier.fit(features, y)\n",
    "    curr_coeffs = classifier.named_steps['sgdclassifier'].coef_\n",
    "    curr_intercept = classifier.named_steps['sgdclassifier'].intercept_\n",
    "    \n",
    "    coeffs.append(curr_coeffs[0])\n",
    "    intercepts.append(curr_intercept[0])\n",
    "\n",
    "# typecast coeffs and intercept to a numpy array\n",
    "coeffs = array(coeffs)\n",
    "intercepts = array(intercepts)\n",
    "\n",
    "coeff_averages = []\n",
    "\n",
    "# add the average of the intercepts to the coefficient average \n",
    "coeff_averages.append(mean(intercepts))\n",
    "\n",
    "# iterate through the coefficients number\n",
    "for coeff in range(0, coeffs.shape[1]):\n",
    "    \n",
    "    mean_coeff = mean(coeffs[:, coeff])\n",
    "    \n",
    "    coeff_averages.append(mean_coeff)\n",
    "    \n",
    "print(\"Averages\", coeff_averages)"
   ]
  },
  {
   "cell_type": "code",
   "execution_count": 12,
   "id": "periodic-departure",
   "metadata": {},
   "outputs": [
    {
     "name": "stdout",
     "output_type": "stream",
     "text": [
      "(mean) Intercept: -391.8776615123826\n",
      "(mean) Coefficient 1: 1.806399301070677\n",
      "(mean) Coefficient 2: -1.8077996080170593\n",
      "(mean) Coefficient 3: 63.562861704049226\n",
      "(mean) Coefficient 4: 3.78355640835006\n",
      "(mean) Coefficient 5: 62.5862202614384\n"
     ]
    }
   ],
   "source": [
    "print(\"(mean) Intercept: {}\".format(coeff_averages[0]))\n",
    "\n",
    "for i, val in enumerate(coeff_averages):\n",
    "   \n",
    "    # skip the bias term \n",
    "    if i == 0:\n",
    "        continue\n",
    "    \n",
    "    print(\"(mean) Coefficient {}: {}\".format(i, val))"
   ]
  },
  {
   "cell_type": "markdown",
   "id": "private-adjustment",
   "metadata": {},
   "source": [
    "**Q3 Part B: Examining the Coefficients from the Previous Part**"
   ]
  },
  {
   "cell_type": "code",
   "execution_count": 13,
   "id": "outer-grounds",
   "metadata": {},
   "outputs": [
    {
     "name": "stdout",
     "output_type": "stream",
     "text": [
      "3.1781430852024615\n"
     ]
    }
   ],
   "source": [
    "# get the maximum value of the coefficients \n",
    "max_coeff = max(coeff_averages)\n",
    "\n",
    "# set a threshold value for the coefficients we ignore \n",
    "thresh_val = .05 * abs(max_coeff)\n",
    "print(thresh_val)"
   ]
  },
  {
   "cell_type": "code",
   "execution_count": 14,
   "id": "identical-harris",
   "metadata": {},
   "outputs": [
    {
     "data": {
      "text/plain": [
       "array([ True, False, False,  True,  True,  True])"
      ]
     },
     "execution_count": 14,
     "metadata": {},
     "output_type": "execute_result"
    }
   ],
   "source": [
    "coeffs_pass_threshold = absolute(coeff_averages) > thresh_val\n",
    "coeffs_pass_threshold"
   ]
  },
  {
   "cell_type": "code",
   "execution_count": 15,
   "id": "excess-canadian",
   "metadata": {},
   "outputs": [
    {
     "name": "stdout",
     "output_type": "stream",
     "text": [
      "[[0 0]\n",
      " [1 0]\n",
      " [0 1]\n",
      " [2 0]\n",
      " [1 1]\n",
      " [0 2]]\n"
     ]
    },
    {
     "data": {
      "text/plain": [
       "array([[0, 0],\n",
       "       [2, 0],\n",
       "       [1, 1],\n",
       "       [0, 2]], dtype=int64)"
      ]
     },
     "execution_count": 15,
     "metadata": {},
     "output_type": "execute_result"
    }
   ],
   "source": [
    "# determine what variables are associated with the remaining coefficients \n",
    "# get the powers\n",
    "poly = PolynomialFeatures(2)\n",
    "\n",
    "# fit another PolynomialFeatures object, this time including the bias so we can get correct feature names\n",
    "poly.fit_transform(X)\n",
    "print(poly.powers_)\n",
    "kept_powers = poly.powers_[coeffs_pass_threshold]\n",
    "kept_powers"
   ]
  },
  {
   "cell_type": "code",
   "execution_count": 16,
   "id": "baking-dictionary",
   "metadata": {},
   "outputs": [
    {
     "data": {
      "text/plain": [
       "array(['1', 'x0^2', 'x0 x1', 'x1^2'], dtype='<U5')"
      ]
     },
     "execution_count": 16,
     "metadata": {},
     "output_type": "execute_result"
    }
   ],
   "source": [
    "# check that the powers are consistent by getting variable names\n",
    "kept_names = array(poly.get_feature_names())[coeffs_pass_threshold]\n",
    "kept_names"
   ]
  },
  {
   "cell_type": "code",
   "execution_count": 17,
   "id": "dental-amendment",
   "metadata": {},
   "outputs": [
    {
     "data": {
      "text/plain": [
       "array([-391.87766151,   63.5628617 ,    3.78355641,   62.58622026])"
      ]
     },
     "execution_count": 17,
     "metadata": {},
     "output_type": "execute_result"
    }
   ],
   "source": [
    "# what are the values of the coefficients we keep\n",
    "# this array includes the intercept \n",
    "coeffs_kept = array(coeff_averages)[coeffs_pass_threshold]\n",
    "coeffs_kept"
   ]
  },
  {
   "cell_type": "markdown",
   "id": "premium-salon",
   "metadata": {},
   "source": [
    "The equation for the decision boundary is given by \n",
    "\n",
    "$$390.6068 =(63.4984)X_1^2 + (62.4624)X_2^2$$\n",
    "\n",
    "Based on this equation, we see that the shape of the decision boundary is a circle (not a perfect circle but the coefficients are large enough and close enough that it essentially is one). As we see in the attribute space plot below, the boundary between the two classes is essentially a circular, so this equation for the decision boundary makes sense."
   ]
  },
  {
   "cell_type": "code",
   "execution_count": 19,
   "id": "dated-payroll",
   "metadata": {},
   "outputs": [
    {
     "data": {
      "text/plain": [
       "<matplotlib.collections.PathCollection at 0x24dc66eafa0>"
      ]
     },
     "execution_count": 19,
     "metadata": {},
     "output_type": "execute_result"
    },
    {
     "data": {
      "image/png": "[encoded data removed]",
      "text/plain": [
       "<Figure size 432x288 with 1 Axes>"
      ]
     },
     "metadata": {
      "needs_background": "light"
     },
     "output_type": "display_data"
    }
   ],
   "source": [
    "plt.scatter(var1, var2, c=y)\n",
    "\n",
    "p = random.uniform(-3, 3, size=(1000000, 2))\n",
    "c = array([63.49840257, 62.46239314])\n",
    "\n",
    "points = p[logical_and((p**2).dot(c) - 390.60683054 > 0, (p**2).dot(c) - 390.6068 < .1)]\n",
    "# print(points2)\n",
    "\n",
    "plt.scatter(points[:, 0], points[:, 1])"
   ]
  },
  {
   "cell_type": "code",
   "execution_count": null,
   "id": "modern-bernard",
   "metadata": {},
   "outputs": [],
   "source": []
  }
 ],
 "metadata": {
  "kernelspec": {
   "display_name": "Python (DataScienceEnv)",
   "language": "python",
   "name": "datascienceenv"
  },
  "language_info": {
   "codemirror_mode": {
    "name": "ipython",
    "version": 3
   },
   "file_extension": ".py",
   "mimetype": "text/x-python",
   "name": "python",
   "nbconvert_exporter": "python",
   "pygments_lexer": "ipython3",
   "version": "3.8.5"
  },
  "toc": {
   "base_numbering": 1,
   "nav_menu": {},
   "number_sections": true,
   "sideBar": true,
   "skip_h1_title": false,
   "title_cell": "Table of Contents",
   "title_sidebar": "Contents",
   "toc_cell": false,
   "toc_position": {},
   "toc_section_display": true,
   "toc_window_display": false
  },
  "varInspector": {
   "cols": {
    "lenName": 16,
    "lenType": 16,
    "lenVar": 40
   },
   "kernels_config": {
    "python": {
     "delete_cmd_postfix": "",
     "delete_cmd_prefix": "del ",
     "library": "var_list.py",
     "varRefreshCmd": "print(var_dic_list())"
    },
    "r": {
     "delete_cmd_postfix": ") ",
     "delete_cmd_prefix": "rm(",
     "library": "var_list.r",
     "varRefreshCmd": "cat(var_dic_list()) "
    }
   },
   "types_to_exclude": [
    "module",
    "function",
    "builtin_function_or_method",
    "instance",
    "_Feature"
   ],
   "window_display": false
  }
 },
 "nbformat": 4,
 "nbformat_minor": 5
}
