{
 "cells": [
  {
   "cell_type": "code",
   "execution_count": 5,
   "id": "sharing-execution",
   "metadata": {},
   "outputs": [],
   "source": [
    "from random import shuffle \n",
    "from math import sqrt"
   ]
  },
  {
   "cell_type": "markdown",
   "id": "american-heart",
   "metadata": {},
   "source": [
    "**Part A: Use Monte Carlo Simulation to Estimate P(5 examples in training set)**"
   ]
  },
  {
   "cell_type": "code",
   "execution_count": 2,
   "id": "european-latitude",
   "metadata": {},
   "outputs": [
    {
     "name": "stdout",
     "output_type": "stream",
     "text": [
      "Estimated Probability of having special examples in our training split: 0.233\n"
     ]
    }
   ],
   "source": [
    "num_iter = 10**3\n",
    "indexes = list(range(0, 100))\n",
    "\n",
    "conditions_met = []\n",
    "for _ in range(num_iter):\n",
    "    \n",
    "    # create a list of indexes and shuffle it\n",
    "    shuffle(indexes)\n",
    "    \n",
    "    training_indices = indexes[0:75]\n",
    "    testing_indices = indexes[75:100]\n",
    "    \n",
    "    conditions_met.append(all(x in training_indices for x in [0, 1, 2, 3, 4]))\n",
    "\n",
    "estimated_probability = sum(conditions_met) / num_iter\n",
    "print(\"Estimated Probability of having special examples in our training split: {}\".format(estimated_probability))"
   ]
  },
  {
   "cell_type": "markdown",
   "id": "described-baltimore",
   "metadata": {},
   "source": [
    "**Part B: Provide an Estimate of the Magnitude of the Error**\n",
    "\n",
    "There is a 95% chance that the actual probability will we within a distance of \n",
    "$\\\\\\\\$\n",
    "$$1 / \\sqrt{N}$$\n",
    "$\\\\\\\\$\n",
    "from the estimated value\n"
   ]
  },
  {
   "cell_type": "code",
   "execution_count": 6,
   "id": "brilliant-prerequisite",
   "metadata": {},
   "outputs": [
    {
     "name": "stdout",
     "output_type": "stream",
     "text": [
      "A 95% Confidence Interval for the probability is given by: [0.199, 0.262]\n"
     ]
    }
   ],
   "source": [
    "# calculate error using the formula above \n",
    "error = 1 / sqrt(num_iter)\n",
    "CI_95_percent = [round(estimated_probability - error, 3), round(estimated_probability + error, 3)]\n",
    "\n",
    "print(\"A 95% Confidence Interval for the probability is given by: {}\".format(CI_95_percent))"
   ]
  },
  {
   "cell_type": "markdown",
   "id": "external-express",
   "metadata": {},
   "source": [
    "**Part C: Compute Monte Carlo Estimate of Number of Repititions For Which We Can be Sure that the error is accurate to three digits**\n",
    "\n",
    "We want to be sure that our estimate is accurate to the third decimal place, so we can set up the following inequality to represent this (noting that .0005 rounds up to .001):\n",
    "\n",
    "$$\\frac{1}{\\sqrt{N}} \\le .0005$$\n",
    "\n",
    "Analytically, we see that N must be at least 4,000,000 for us to be sure we're accurate within three decimal places. We check below using Monte Carlo simulation. "
   ]
  },
  {
   "cell_type": "code",
   "execution_count": 10,
   "id": "genetic-supplier",
   "metadata": {},
   "outputs": [
    {
     "name": "stdout",
     "output_type": "stream",
     "text": [
      "Lowest N: 4000000\n"
     ]
    }
   ],
   "source": [
    "N = 1 \n",
    "\n",
    "while True:\n",
    "    \n",
    "    error = 1 / sqrt(N)\n",
    "    \n",
    "    if error <= .0005:\n",
    "        print(\"Lowest N: {}\".format(N))\n",
    "        break \n",
    "        \n",
    "    N += 1"
   ]
  },
  {
   "cell_type": "code",
   "execution_count": null,
   "id": "qualified-consultancy",
   "metadata": {},
   "outputs": [],
   "source": [
    "# finally, compute the final estimated probability value\n",
    "# same process from above but with our new lowest value of N s.t. we can be sure the estimate will be within 3 decimal place\n",
    "\n",
    "conditions_met = []\n",
    "indexes = list(range(0, 100))\n",
    "\n",
    "for _ in range(N):\n",
    "    \n",
    "    # create a list of indexes and shuffle it\n",
    "    shuffle(indexes)\n",
    "    \n",
    "    training_indices = indexes[0:75]\n",
    "    testing_indices = indexes[75:100]\n",
    "    \n",
    "    conditions_met.append(all(x in training_indices for x in [0, 1, 2, 3, 4]))\n",
    "\n",
    "estimated_probability = sum(conditions_met) / N\n",
    "print(\"Estimated Probability of having special examples in our training split: {}\".format(estimated_probability))"
   ]
  }
 ],
 "metadata": {
  "kernelspec": {
   "display_name": "Python 3",
   "language": "python",
   "name": "python3"
  },
  "language_info": {
   "codemirror_mode": {
    "name": "ipython",
    "version": 3
   },
   "file_extension": ".py",
   "mimetype": "text/x-python",
   "name": "python",
   "nbconvert_exporter": "python",
   "pygments_lexer": "ipython3",
   "version": "3.8.5"
  },
  "toc": {
   "base_numbering": 1,
   "nav_menu": {},
   "number_sections": true,
   "sideBar": true,
   "skip_h1_title": false,
   "title_cell": "Table of Contents",
   "title_sidebar": "Contents",
   "toc_cell": false,
   "toc_position": {},
   "toc_section_display": true,
   "toc_window_display": false
  },
  "varInspector": {
   "cols": {
    "lenName": 16,
    "lenType": 16,
    "lenVar": 40
   },
   "kernels_config": {
    "python": {
     "delete_cmd_postfix": "",
     "delete_cmd_prefix": "del ",
     "library": "var_list.py",
     "varRefreshCmd": "print(var_dic_list())"
    },
    "r": {
     "delete_cmd_postfix": ") ",
     "delete_cmd_prefix": "rm(",
     "library": "var_list.r",
     "varRefreshCmd": "cat(var_dic_list()) "
    }
   },
   "types_to_exclude": [
    "module",
    "function",
    "builtin_function_or_method",
    "instance",
    "_Feature"
   ],
   "window_display": false
  }
 },
 "nbformat": 4,
 "nbformat_minor": 5
}
