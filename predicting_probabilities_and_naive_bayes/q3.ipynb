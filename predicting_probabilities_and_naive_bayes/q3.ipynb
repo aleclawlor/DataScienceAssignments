{
 "cells": [
  {
   "cell_type": "code",
   "execution_count": 1,
   "metadata": {},
   "outputs": [],
   "source": [
    "from random import random\n",
    "from numpy import array, mean, linspace\n",
    "from scipy.stats import norm\n",
    "from seaborn import distplot\n",
    "import matplotlib.pyplot as plt \n",
    "from math import sqrt "
   ]
  },
  {
   "cell_type": "markdown",
   "metadata": {},
   "source": [
    "**Part A: Implement the PDF Given and Plot a Histogram of the Mean Values**"
   ]
  },
  {
   "cell_type": "code",
   "execution_count": 2,
   "metadata": {},
   "outputs": [],
   "source": [
    "def get_from_pmf():\n",
    "\n",
    "    random_num = random()\n",
    "\n",
    "    if random_num >= 0 and random_num <= .05:\n",
    "        return 1 \n",
    "\n",
    "    elif random_num > .05 and random_num <= .2:\n",
    "        return 2\n",
    "\n",
    "    elif random_num > .2 and random_num <= .5:\n",
    "        return 3\n",
    "    \n",
    "    elif random_num > .5 and random_num <= .9:\n",
    "        return 4\n",
    "\n",
    "    else:\n",
    "        return 5"
   ]
  },
  {
   "cell_type": "code",
   "execution_count": 3,
   "metadata": {},
   "outputs": [
    {
     "data": {
      "image/png": "[encoded data removed]",
      "text/plain": [
       "<Figure size 432x288 with 1 Axes>"
      ]
     },
     "metadata": {
      "needs_background": "light"
     },
     "output_type": "display_data"
    }
   ],
   "source": [
    "mean_values = []\n",
    "\n",
    "for _ in range(10**5):\n",
    "\n",
    "    # generate a list of 100 values from the given PMF \n",
    "    random_sample = [get_from_pmf() for _ in range(100)]\n",
    "\n",
    "    mean_values.append(mean(array(random_sample)))\n",
    "    \n",
    "hist = plt.hist(mean_values, density=True, bins=50)"
   ]
  },
  {
   "cell_type": "markdown",
   "metadata": {},
   "source": [
    "**Part B: Determine Expected Value and Stdev of The Given PDF**\n",
    "\n",
    "Analytically, we get that \n",
    "\n",
    "$$E[X] = 1(.05) + 2(.15) + 3(.3) + 4(.4) + 5(.1) = 3.35$$\n",
    "\n",
    "and \n",
    "\n",
    "$$\\sigma = \\sqrt{\\frac{1}{n-1} \\sum^{n}_{i=1}(x_i - E[X])^2} = 1.0137$$"
   ]
  },
  {
   "cell_type": "code",
   "execution_count": 4,
   "metadata": {},
   "outputs": [
    {
     "name": "stdout",
     "output_type": "stream",
     "text": [
      "0.10137\n",
      "0.10137\n"
     ]
    },
    {
     "data": {
      "image/png": "[encoded data removed]",
      "text/plain": [
       "<Figure size 432x288 with 1 Axes>"
      ]
     },
     "metadata": {
      "needs_background": "light"
     },
     "output_type": "display_data"
    }
   ],
   "source": [
    "# expected value of 100 IID \n",
    "# expected value does not change\n",
    "exp_100 = 3.35 \n",
    "std_100 = 1.0137 / sqrt(100)\n",
    "\n",
    "print(std_100)\n",
    "\n",
    "plt.hist(mean_values, density=True, bins=50)\n",
    "x_range = linspace(3.35 - std_100*3, 3.35 + std_100*3, 1000)\n",
    "plt.plot(x_range, norm.pdf(x_range, loc=exp_100, scale=std_100))\n",
    "\n",
    "print(std_100)"
   ]
  },
  {
   "cell_type": "code",
   "execution_count": null,
   "metadata": {},
   "outputs": [],
   "source": []
  }
 ],
 "metadata": {
  "kernelspec": {
   "display_name": "Python (DataScienceEnv)",
   "language": "python",
   "name": "datascienceenv"
  },
  "language_info": {
   "codemirror_mode": {
    "name": "ipython",
    "version": 3
   },
   "file_extension": ".py",
   "mimetype": "text/x-python",
   "name": "python",
   "nbconvert_exporter": "python",
   "pygments_lexer": "ipython3",
   "version": "3.8.5"
  },
  "toc": {
   "base_numbering": 1,
   "nav_menu": {},
   "number_sections": true,
   "sideBar": true,
   "skip_h1_title": false,
   "title_cell": "Table of Contents",
   "title_sidebar": "Contents",
   "toc_cell": false,
   "toc_position": {},
   "toc_section_display": true,
   "toc_window_display": false
  },
  "varInspector": {
   "cols": {
    "lenName": 16,
    "lenType": 16,
    "lenVar": 40
   },
   "kernels_config": {
    "python": {
     "delete_cmd_postfix": "",
     "delete_cmd_prefix": "del ",
     "library": "var_list.py",
     "varRefreshCmd": "print(var_dic_list())"
    },
    "r": {
     "delete_cmd_postfix": ") ",
     "delete_cmd_prefix": "rm(",
     "library": "var_list.r",
     "varRefreshCmd": "cat(var_dic_list()) "
    }
   },
   "types_to_exclude": [
    "module",
    "function",
    "builtin_function_or_method",
    "instance",
    "_Feature"
   ],
   "window_display": false
  }
 },
 "nbformat": 4,
 "nbformat_minor": 2
}
