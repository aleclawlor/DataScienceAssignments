{
 "cells": [
  {
   "cell_type": "code",
   "execution_count": 1,
   "metadata": {},
   "outputs": [],
   "source": [
    "from scipy.stats import norm\n",
    "from sklearn import naive_bayes\n",
    "from numpy import array, prod, append\n",
    "from sklearn.datasets import load_iris\n",
    "from math import sqrt"
   ]
  },
  {
   "cell_type": "code",
   "execution_count": 2,
   "metadata": {},
   "outputs": [],
   "source": [
    "def predict_proba_custom(M, x):\n",
    "\n",
    "    # get the values of theta_c and sigma^2_c\n",
    "    theta_c = clf_NB.theta_ \n",
    "    variance_c = clf_NB.sigma_\n",
    "\n",
    "    # get class probabilities from model\n",
    "    class_probabilities = M.class_prior_\n",
    "    # calculate normalizing term K before computing each class probability\n",
    "\n",
    "    numerators = []\n",
    "\n",
    "    # iterate through each class \n",
    "    for class_num in range(len(M.class_count_)):    \n",
    "\n",
    "        # get the per-class expectations and variances \n",
    "        theta_c_i = theta_c[class_num]\n",
    "        variance_c_i = variance_c[class_num]\n",
    "\n",
    "        # prior probability of class c \n",
    "        prior_c = class_probabilities[class_num]\n",
    "\n",
    "        # calculate numerator of P(c | x) for the current c\n",
    "\n",
    "        # compute the probability of getting the attribute vector given class c (P(x | c))\n",
    "        # we need to look at theta_c, sigma^2_c per class attribute\n",
    "        # the probability of x given c is the product of P(X_i | c) by independence assumption\n",
    "        prob_x_given_c = prod([norm.pdf(x_i, loc=theta_c_i[i], scale=sqrt(variance_c_i[i])) for i, x_i in enumerate(x)])\n",
    "\n",
    "        numerators.append(prior_c * prob_x_given_c)\n",
    "\n",
    "    K = sum(numerators)\n",
    "\n",
    "    probabilities = []\n",
    "    for numerator in numerators:\n",
    "        probabilities.append(numerator/K)\n",
    "\n",
    "    return array(probabilities)\n"
   ]
  },
  {
   "cell_type": "code",
   "execution_count": 3,
   "metadata": {},
   "outputs": [
    {
     "name": "stdout",
     "output_type": "stream",
     "text": [
      "Probability Class 1: 0.385446\n",
      "Probability Class 2: 0.614554\n",
      "Probability Class 3: 0.000000\n"
     ]
    }
   ],
   "source": [
    "iris = load_iris()\n",
    "\n",
    "X = iris['data']\n",
    "target = iris['target']\n",
    "\n",
    "clf_NB = naive_bayes.GaussianNB()\n",
    "\n",
    "# fit the model to the full Iris dataset\n",
    "clf_NB.fit(X, target)\n",
    "\n",
    "x_0 = [5, 3, 2, .8]\n",
    "proba = predict_proba_custom(clf_NB, x_0)\n",
    "\n",
    "for class_num, prob in enumerate(proba):\n",
    "\n",
    "    print(\"Probability Class {}: {:f}\".format(class_num + 1, prob))"
   ]
  }
 ],
 "metadata": {
  "kernelspec": {
   "display_name": "Python (DataScienceEnv)",
   "language": "python",
   "name": "datascienceenv"
  },
  "language_info": {
   "codemirror_mode": {
    "name": "ipython",
    "version": 3
   },
   "file_extension": ".py",
   "mimetype": "text/x-python",
   "name": "python",
   "nbconvert_exporter": "python",
   "pygments_lexer": "ipython3",
   "version": "3.8.5"
  },
  "toc": {
   "base_numbering": 1,
   "nav_menu": {},
   "number_sections": true,
   "sideBar": true,
   "skip_h1_title": false,
   "title_cell": "Table of Contents",
   "title_sidebar": "Contents",
   "toc_cell": false,
   "toc_position": {},
   "toc_section_display": true,
   "toc_window_display": false
  },
  "varInspector": {
   "cols": {
    "lenName": 16,
    "lenType": 16,
    "lenVar": 40
   },
   "kernels_config": {
    "python": {
     "delete_cmd_postfix": "",
     "delete_cmd_prefix": "del ",
     "library": "var_list.py",
     "varRefreshCmd": "print(var_dic_list())"
    },
    "r": {
     "delete_cmd_postfix": ") ",
     "delete_cmd_prefix": "rm(",
     "library": "var_list.r",
     "varRefreshCmd": "cat(var_dic_list()) "
    }
   },
   "types_to_exclude": [
    "module",
    "function",
    "builtin_function_or_method",
    "instance",
    "_Feature"
   ],
   "window_display": false
  }
 },
 "nbformat": 4,
 "nbformat_minor": 2
}
