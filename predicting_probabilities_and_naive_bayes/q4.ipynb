{
 "cells": [
  {
   "cell_type": "code",
   "execution_count": 1,
   "metadata": {},
   "outputs": [],
   "source": [
    "from sklearn.datasets import load_iris\n",
    "from sklearn import naive_bayes\n",
    "from numpy import array"
   ]
  },
  {
   "cell_type": "markdown",
   "metadata": {},
   "source": [
    "**Part A: Fit a Gaussian Naive Bayes Model to the Full Iris Dataset**"
   ]
  },
  {
   "cell_type": "code",
   "execution_count": 2,
   "metadata": {},
   "outputs": [
    {
     "name": "stdout",
     "output_type": "stream",
     "text": [
      "Theta_c: \n",
      "\n",
      "[[5.006 3.428 1.462 0.246]\n",
      " [5.936 2.77  4.26  1.326]\n",
      " [6.588 2.974 5.552 2.026]]\n",
      "\n",
      "Sigma^2_c: \n",
      "\n",
      "[[0.121764 0.140816 0.029556 0.010884]\n",
      " [0.261104 0.0965   0.2164   0.038324]\n",
      " [0.396256 0.101924 0.298496 0.073924]]\n"
     ]
    }
   ],
   "source": [
    "iris = load_iris()\n",
    "\n",
    "X = iris['data']\n",
    "target = iris['target']\n",
    "\n",
    "clf_NB = naive_bayes.GaussianNB()\n",
    "\n",
    "# fit the model to the full Iris dataset\n",
    "clf_NB.fit(X, target)\n",
    "\n",
    "# print the values of theta_c and sigma^2_c\n",
    "theta_c = clf_NB.theta_ \n",
    "variance_c = clf_NB.sigma_\n",
    "print(\"Theta_c: \\n\\n{}\\n\\nSigma^2_c: \\n\\n{}\".format(theta_c, variance_c))"
   ]
  },
  {
   "cell_type": "markdown",
   "metadata": {},
   "source": [
    "The matrices above show the values of the mean of each feature per class and variance of each each feature per class respectively. \n",
    "\n",
    "As we see from the matrix of per-class variances, attribute 3 has the smallest variance in all classes. The individual Gaussian distributions for these attributes will be \"thinner\" than those of the other attributes among classes. \n",
    "\n",
    "Attribute 2 has the smallest expected value in class 1. For the distributions of attribute 2 among all 3 classes, we can expect the plot of the distribution for this attribute to be centered farthest to the left on the x-axis for class 1."
   ]
  },
  {
   "cell_type": "markdown",
   "metadata": {},
   "source": [
    "**Part B: Determine the Probability the Given Vector Belongs to Each Class**"
   ]
  },
  {
   "cell_type": "code",
   "execution_count": 3,
   "metadata": {},
   "outputs": [
    {
     "name": "stdout",
     "output_type": "stream",
     "text": [
      "Probability Class 1: 0.385446\n",
      "Probability Class 2: 0.614554\n",
      "Probability Class 3: 0.000000\n"
     ]
    }
   ],
   "source": [
    "x_0 = array([5, 3, 2, .8])\n",
    "\n",
    "# use predict_proba method to determine for each class the probability that x_0 belongs to each class \n",
    "\n",
    "predictions = clf_NB.predict_proba(x_0.reshape(1, -1))[0]\n",
    "\n",
    "for class_num, prob in enumerate(predictions):\n",
    "\n",
    "    print(\"Probability Class {}: {:f}\".format(class_num + 1, prob))"
   ]
  },
  {
   "cell_type": "markdown",
   "metadata": {},
   "source": [
    "The probability that the attribute vector belongs to class 2 is approximately .6146, which is higher than the rest of the probabilities, meaning the attribute vector most likely belongs to this class. "
   ]
  }
 ],
 "metadata": {
  "kernelspec": {
   "display_name": "Python (DataScienceEnv)",
   "language": "python",
   "name": "datascienceenv"
  },
  "language_info": {
   "codemirror_mode": {
    "name": "ipython",
    "version": 3
   },
   "file_extension": ".py",
   "mimetype": "text/x-python",
   "name": "python",
   "nbconvert_exporter": "python",
   "pygments_lexer": "ipython3",
   "version": "3.8.5"
  },
  "toc": {
   "base_numbering": 1,
   "nav_menu": {},
   "number_sections": true,
   "sideBar": true,
   "skip_h1_title": false,
   "title_cell": "Table of Contents",
   "title_sidebar": "Contents",
   "toc_cell": false,
   "toc_position": {},
   "toc_section_display": true,
   "toc_window_display": false
  },
  "varInspector": {
   "cols": {
    "lenName": 16,
    "lenType": 16,
    "lenVar": 40
   },
   "kernels_config": {
    "python": {
     "delete_cmd_postfix": "",
     "delete_cmd_prefix": "del ",
     "library": "var_list.py",
     "varRefreshCmd": "print(var_dic_list())"
    },
    "r": {
     "delete_cmd_postfix": ") ",
     "delete_cmd_prefix": "rm(",
     "library": "var_list.r",
     "varRefreshCmd": "cat(var_dic_list()) "
    }
   },
   "types_to_exclude": [
    "module",
    "function",
    "builtin_function_or_method",
    "instance",
    "_Feature"
   ],
   "window_display": false
  }
 },
 "nbformat": 4,
 "nbformat_minor": 2
}
