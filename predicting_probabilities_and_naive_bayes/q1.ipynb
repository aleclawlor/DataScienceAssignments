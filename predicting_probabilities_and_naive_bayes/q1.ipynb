{
 "cells": [
  {
   "cell_type": "code",
   "execution_count": 1,
   "metadata": {},
   "outputs": [],
   "source": [
    "from sklearn.datasets import load_digits\n",
    "from sklearn.model_selection import train_test_split\n",
    "from sklearn.linear_model import SGDClassifier\n",
    "from sklearn.preprocessing import StandardScaler\n",
    "from sklearn.pipeline import make_pipeline\n",
    "from numpy import array, mean, append, std\n",
    "from numpy.random import shuffle\n",
    "from random import choice, randint\n",
    "import matplotlib.pyplot as plt"
   ]
  },
  {
   "cell_type": "code",
   "execution_count": 2,
   "metadata": {},
   "outputs": [],
   "source": [
    "digits = load_digits()\n",
    "\n",
    "X = digits['data']\n",
    "target = digits['target']"
   ]
  },
  {
   "cell_type": "markdown",
   "metadata": {},
   "source": [
    "**Part A: Train a Linear Classifier on Digits Dataset**"
   ]
  },
  {
   "cell_type": "code",
   "execution_count": 3,
   "metadata": {},
   "outputs": [],
   "source": [
    "X_train, X_test, y_train, y_test = train_test_split(X, target, test_size = .5)"
   ]
  },
  {
   "cell_type": "code",
   "execution_count": 4,
   "metadata": {},
   "outputs": [
    {
     "data": {
      "text/plain": [
       "SGDClassifier()"
      ]
     },
     "execution_count": 4,
     "metadata": {},
     "output_type": "execute_result"
    }
   ],
   "source": [
    "clf = SGDClassifier()\n",
    "clf.fit(X_train, y_train)"
   ]
  },
  {
   "cell_type": "markdown",
   "metadata": {},
   "source": [
    "**Part B: Implement the Given Function**"
   ]
  },
  {
   "cell_type": "code",
   "execution_count": 5,
   "metadata": {},
   "outputs": [],
   "source": [
    "# Tests classifier model M on 10**4 random samples of labeled data set (X,Y)\n",
    "# (predictive attributes in X; labels in Y), each of size testSize, and\n",
    "# returns an array of the mean classification accuracies for these samples\n",
    "\n",
    "def testModel(M, X, y, testSize):\n",
    "\n",
    "    accuracies = []\n",
    "    indexes = array(list(range(0, testSize)))\n",
    "\n",
    "    for _ in range(10**4):\n",
    "\n",
    "        sample_X = []\n",
    "        sample_y = []\n",
    "\n",
    "        for _ in range(testSize):\n",
    "\n",
    "            # shuffle the indices \n",
    "            shuffle(indexes)\n",
    "\n",
    "            sample_X.append(X[indexes[0]])\n",
    "            sample_y.append(y[indexes[0]])\n",
    "\n",
    "        sample_X = array(sample_X)\n",
    "        sample_y = array(sample_y)\n",
    "\n",
    "        # perform predictions on the test splits and get the accuracy \n",
    "        accuracy = M.score(sample_X, sample_y)\n",
    "\n",
    "        # append accuracy to array of accuracies \n",
    "        accuracies.append(accuracy)\n",
    "\n",
    "    return accuracies"
   ]
  },
  {
   "cell_type": "code",
   "execution_count": 6,
   "metadata": {},
   "outputs": [
    {
     "name": "stdout",
     "output_type": "stream",
     "text": [
      "\n",
      "Mean (k=0): 0.917000\n",
      "Stdev (k=0): 0.056000\n",
      "\n",
      "Mean (k=1): 0.938000\n",
      "Stdev (k=1): 0.035000\n",
      "\n",
      "Mean (k=2): 0.959000\n",
      "Stdev (k=2): 0.020000\n",
      "\n",
      "Mean (k=3): 0.937000\n",
      "Stdev (k=3): 0.017000\n",
      "\n",
      "Mean (k=4): 0.945000\n",
      "Stdev (k=4): 0.012000\n",
      "\n",
      "Mean (k=5): 0.939000\n",
      "Stdev (k=5): 0.009000\n"
     ]
    },
    {
     "data": {
      "text/plain": [
       "[<matplotlib.lines.Line2D at 0x22d0c8b3e80>]"
      ]
     },
     "execution_count": 6,
     "metadata": {},
     "output_type": "execute_result"
    },
    {
     "data": {
      "image/png": "[encoded data removed]",
      "text/plain": [
       "<Figure size 432x288 with 1 Axes>"
      ]
     },
     "metadata": {
      "needs_background": "light"
     },
     "output_type": "display_data"
    }
   ],
   "source": [
    "deviations = []\n",
    "\n",
    "for k in range(0, 5+1):\n",
    "\n",
    "    num_rows = 24 * (2**k)\n",
    "\n",
    "    test_X = X_test[0:num_rows]\n",
    "    test_Y = y_test[0:num_rows]\n",
    "\n",
    "    accuracies = testModel(clf, test_X, test_Y, len(test_X))\n",
    "\n",
    "    print(\"\\nMean (k={}): {:f}\".format(k, round(mean(accuracies), 3)))\n",
    "    print(\"Stdev (k={}): {:f}\".format(k, round(std(accuracies), 3)))\n",
    "\n",
    "    deviations.append(std(accuracies))\n",
    "\n",
    "plt.plot(list(range(6)), deviations)"
   ]
  }
 ],
 "metadata": {
  "kernelspec": {
   "display_name": "Python (DataScienceEnv)",
   "language": "python",
   "name": "datascienceenv"
  },
  "language_info": {
   "codemirror_mode": {
    "name": "ipython",
    "version": 3
   },
   "file_extension": ".py",
   "mimetype": "text/x-python",
   "name": "python",
   "nbconvert_exporter": "python",
   "pygments_lexer": "ipython3",
   "version": "3.8.5"
  },
  "toc": {
   "base_numbering": 1,
   "nav_menu": {},
   "number_sections": true,
   "sideBar": true,
   "skip_h1_title": false,
   "title_cell": "Table of Contents",
   "title_sidebar": "Contents",
   "toc_cell": false,
   "toc_position": {},
   "toc_section_display": true,
   "toc_window_display": false
  },
  "varInspector": {
   "cols": {
    "lenName": 16,
    "lenType": 16,
    "lenVar": 40
   },
   "kernels_config": {
    "python": {
     "delete_cmd_postfix": "",
     "delete_cmd_prefix": "del ",
     "library": "var_list.py",
     "varRefreshCmd": "print(var_dic_list())"
    },
    "r": {
     "delete_cmd_postfix": ") ",
     "delete_cmd_prefix": "rm(",
     "library": "var_list.r",
     "varRefreshCmd": "cat(var_dic_list()) "
    }
   },
   "types_to_exclude": [
    "module",
    "function",
    "builtin_function_or_method",
    "instance",
    "_Feature"
   ],
   "window_display": false
  }
 },
 "nbformat": 4,
 "nbformat_minor": 2
}
