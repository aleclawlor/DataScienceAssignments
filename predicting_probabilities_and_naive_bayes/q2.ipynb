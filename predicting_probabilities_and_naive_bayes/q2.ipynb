{
 "cells": [
  {
   "cell_type": "code",
   "execution_count": 1,
   "metadata": {},
   "outputs": [],
   "source": [
    "from numpy import mean\n",
    "from math import sqrt\n",
    "import matplotlib.pyplot as plt"
   ]
  },
  {
   "cell_type": "markdown",
   "metadata": {},
   "source": [
    "**Part A: How Do We Expect the Expected Value and Stdev to Vary as a Function of Test Size?**\n",
    "\n",
    "To begin, consider that each individual trial (X_i) is a Bernoulli random variable with parameter c (where c is considered the probability of a correct classification for a single sample). Then we have\n",
    "\n",
    "$$\n",
    "E[X_i] = c \n",
    "Var(X_i) = c(1-c)\n",
    "$$\n",
    "\n",
    "$$\n",
    "\\implies Var(NX) = N^2 \\cdot Var(X)\n",
    "$$\n",
    "\n",
    "$$\n",
    "\\sigma = \\sqrt{var(X)}\n",
    "$$\n",
    "\n",
    "\n",
    "Taking the average of N Bernoulli RV's each w/ classification accuracy c (probability correct) we have that the expected value among the N bernoulli trials is \n",
    "\n",
    "$$\n",
    "E[\\frac{1}{N}\\sum_{i=1}^N X_i] =\\frac{1}{N}\\sum_{i=1}^N E[X_i] = \\frac{Nc}{N} = c \n",
    "$$\n",
    "\n",
    "For the standard deviation:\n",
    "\n",
    "$$\n",
    "\\frac{1}{N^2}\\sum_{i=1}^N var(X) = \\frac{1}{N^2}Nc(1-c) = \\frac{c(1-c)}{N}\n",
    "$$\n",
    "\n",
    "and standard deviation (square root of variance)\n",
    "\n",
    "$$\n",
    "\\sigma = \\sqrt{\\frac{c(1-c)}{N}}\n",
    "$$\n",
    "\n",
    "So the standard deviation increases by a factor of $\\frac{1}{\\sqrt{N}}$"
   ]
  },
  {
   "cell_type": "markdown",
   "metadata": {},
   "source": [
    "**Part B: Apply Theoretical Results to Experimental (Above)**"
   ]
  },
  {
   "cell_type": "code",
   "execution_count": 2,
   "metadata": {},
   "outputs": [],
   "source": [
    "# arrays from previous problem\n",
    "means = [.958917, .937329, .916595, .900986, .895698, .907546]\n",
    "stdevs = [.040264, .035297, .028471, .021488, .015385, .010430]\n",
    "\n",
    "# average accuracy (experimental)\n",
    "c = mean(means)\n",
    "\n",
    "stdev_theoretical_predictions = []\n",
    "for k in range(0, 5 + 1):\n",
    "\n",
    "    test_size = 24 * (2**k)\n",
    "    stdev_theoretical_predictions.append(sqrt((1/test_size) * c * (1-c)))"
   ]
  },
  {
   "cell_type": "code",
   "execution_count": 3,
   "metadata": {},
   "outputs": [
    {
     "name": "stdout",
     "output_type": "stream",
     "text": [
      "[0.055531455685533714, 0.03926666888440115, 0.027765727842766857, 0.019633334442200574, 0.013882863921383428, 0.009816667221100287]\n",
      "[0.040264, 0.035297, 0.028471, 0.021488, 0.015385, 0.01043]\n"
     ]
    }
   ],
   "source": [
    "# do these conclusions agree?\n",
    "print(stdev_theoretical_predictions)\n",
    "print(stdevs)\n",
    "\n",
    "# looks like they agree for the most part but we can plot against one another"
   ]
  },
  {
   "cell_type": "code",
   "execution_count": 4,
   "metadata": {},
   "outputs": [
    {
     "data": {
      "text/plain": [
       "<matplotlib.collections.PathCollection at 0x26da9b08a00>"
      ]
     },
     "execution_count": 4,
     "metadata": {},
     "output_type": "execute_result"
    },
    {
     "data": {
      "image/png": "[encoded data removed]",
      "text/plain": [
       "<Figure size 432x288 with 1 Axes>"
      ]
     },
     "metadata": {
      "needs_background": "light"
     },
     "output_type": "display_data"
    }
   ],
   "source": [
    "plt.scatter(list(range(0, 5+1)), stdevs, c=\"red\")\n",
    "plt.scatter(list(range(0, 5+1)), stdev_theoretical_predictions, c=\"blue\")"
   ]
  },
  {
   "cell_type": "code",
   "execution_count": null,
   "metadata": {},
   "outputs": [],
   "source": []
  }
 ],
 "metadata": {
  "kernelspec": {
   "display_name": "Python (DataScienceEnv)",
   "language": "python",
   "name": "datascienceenv"
  },
  "language_info": {
   "codemirror_mode": {
    "name": "ipython",
    "version": 3
   },
   "file_extension": ".py",
   "mimetype": "text/x-python",
   "name": "python",
   "nbconvert_exporter": "python",
   "pygments_lexer": "ipython3",
   "version": "3.8.5"
  },
  "toc": {
   "base_numbering": 1,
   "nav_menu": {},
   "number_sections": true,
   "sideBar": true,
   "skip_h1_title": false,
   "title_cell": "Table of Contents",
   "title_sidebar": "Contents",
   "toc_cell": false,
   "toc_position": {},
   "toc_section_display": true,
   "toc_window_display": false
  },
  "varInspector": {
   "cols": {
    "lenName": 16,
    "lenType": 16,
    "lenVar": 40
   },
   "kernels_config": {
    "python": {
     "delete_cmd_postfix": "",
     "delete_cmd_prefix": "del ",
     "library": "var_list.py",
     "varRefreshCmd": "print(var_dic_list())"
    },
    "r": {
     "delete_cmd_postfix": ") ",
     "delete_cmd_prefix": "rm(",
     "library": "var_list.r",
     "varRefreshCmd": "cat(var_dic_list()) "
    }
   },
   "types_to_exclude": [
    "module",
    "function",
    "builtin_function_or_method",
    "instance",
    "_Feature"
   ],
   "window_display": false
  }
 },
 "nbformat": 4,
 "nbformat_minor": 2
}
